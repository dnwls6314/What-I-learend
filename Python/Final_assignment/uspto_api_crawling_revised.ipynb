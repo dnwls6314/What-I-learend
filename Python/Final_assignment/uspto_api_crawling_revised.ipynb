{
 "cells": [
  {
   "cell_type": "markdown",
   "metadata": {},
   "source": [
    "## 1 Import Library"
   ]
  },
  {
   "cell_type": "code",
   "execution_count": 1,
   "metadata": {},
   "outputs": [],
   "source": [
    "import requests\n",
    "import time\n",
    "import pandas as pd"
   ]
  },
  {
   "cell_type": "markdown",
   "metadata": {},
   "source": [
    "## 2 Parameter Setting"
   ]
  },
  {
   "cell_type": "markdown",
   "metadata": {},
   "source": [
    "### 2-1  Ref : http://www.patentsview.org/api/query-language.html "
   ]
  },
  {
   "cell_type": "code",
   "execution_count": 2,
   "metadata": {},
   "outputs": [],
   "source": [
    "url_post = 'http://www.patentsview.org/api/patents/query'\n",
    "post_len = 10000"
   ]
  },
  {
   "cell_type": "markdown",
   "metadata": {},
   "source": [
    "### 2-2 Only Change Parameter : \"patent_date\" ex) \"yyyy-mm-dd\"  "
   ]
  },
  {
   "cell_type": "code",
   "execution_count": 3,
   "metadata": {},
   "outputs": [],
   "source": [
    "#Don't touch ('Only patent_date ex)yyyy-mm-dd')\n",
    "q1 = '?q={\"_and\":[ {\"_gte\":{\"patent_date\":\"2010-01-01\"}},{\"_or\":[{\"_text_all\":{\"patent_title\":'\n",
    "q2 = '}},{\"_text_all\":{\"patent_abstract\":'\n",
    "q3 = '}}]}]}'"
   ]
  },
  {
   "cell_type": "code",
   "execution_count": 4,
   "metadata": {},
   "outputs": [],
   "source": [
    "#제대로 합쳐졌는지 확인\n",
    "q = '?q={\"_and\":[ {\"_gte\":{\"patent_date\":\"2010-01-01\"}},{\"_or\":[{\"_text_all\":{\"patent_title\":search_t}},{\"_text_all\":{\"patent_abstract\":search_t}}]}]}'"
   ]
  },
  {
   "cell_type": "markdown",
   "metadata": {},
   "source": [
    "### 2-3 Patent Keyword Setting"
   ]
  },
  {
   "cell_type": "code",
   "execution_count": 5,
   "metadata": {},
   "outputs": [
    {
     "name": "stdout",
     "output_type": "stream",
     "text": [
      "['autonomous car', 'autonomous vehicle', 'autonomous drive', 'autonomous driver', 'autonomous driving', 'self-driving car', 'self-driving vehicle', 'self-driving drive', 'self-driving driver', 'self-driving driving', 'driverless car', 'driverless vehicle', 'driverless drive', 'driverless driver', 'driverless driving']\n",
      "15\n"
     ]
    }
   ],
   "source": [
    "# 2-1) patent keyword\n",
    "searchText_f = [\"autonomous\",\"self-driving\",\"driverless\"]\n",
    "searchText_b = [\"car\",\"vehicle\",\"drive\",\"driver\",\"driving\"]\n",
    "searchText_T=[]\n",
    "for f in searchText_f:\n",
    "    for b in searchText_b:\n",
    "        searchText_T.append(f+\" \"+b)\n",
    "\n",
    "print(searchText_T)\n",
    "print(len(searchText_T))"
   ]
  },
  {
   "cell_type": "markdown",
   "metadata": {},
   "source": [
    "## 3 Patent Request "
   ]
  },
  {
   "cell_type": "markdown",
   "metadata": {},
   "source": [
    "### 3-1 Post_Page 는 1page 당 10,000개 뽑혀서 웬만하면 page가 2이상 안넘어갈텐데 넘어가면 밑에 for문이 돌아감."
   ]
  },
  {
   "cell_type": "code",
   "execution_count": 6,
   "metadata": {},
   "outputs": [
    {
     "name": "stdout",
     "output_type": "stream",
     "text": [
      "search num:  0\n",
      "search text:  autonomous car\n",
      "=== Try error1 ===\n"
     ]
    },
    {
     "ename": "NameError",
     "evalue": "name 'post_page' is not defined",
     "output_type": "error",
     "traceback": [
      "\u001b[1;31m---------------------------------------------------------------------------\u001b[0m",
      "\u001b[1;31mNameError\u001b[0m                                 Traceback (most recent call last)",
      "\u001b[1;32m<ipython-input-6-6d824d1a5d78>\u001b[0m in \u001b[0;36m<module>\u001b[1;34m\u001b[0m\n\u001b[0;32m     30\u001b[0m \u001b[1;33m\u001b[0m\u001b[0m\n\u001b[0;32m     31\u001b[0m     \u001b[1;31m# post total page\u001b[0m\u001b[1;33m\u001b[0m\u001b[1;33m\u001b[0m\u001b[1;33m\u001b[0m\u001b[0m\n\u001b[1;32m---> 32\u001b[1;33m     \u001b[1;32mif\u001b[0m \u001b[0mpost_page\u001b[0m \u001b[1;33m>\u001b[0m\u001b[1;36m2\u001b[0m\u001b[1;33m:\u001b[0m\u001b[1;33m\u001b[0m\u001b[1;33m\u001b[0m\u001b[0m\n\u001b[0m\u001b[0;32m     33\u001b[0m         \u001b[1;32mfor\u001b[0m \u001b[0mn\u001b[0m \u001b[1;32min\u001b[0m \u001b[0mrange\u001b[0m\u001b[1;33m(\u001b[0m\u001b[1;36m2\u001b[0m\u001b[1;33m,\u001b[0m\u001b[0mpost_page\u001b[0m\u001b[1;33m)\u001b[0m\u001b[1;33m:\u001b[0m\u001b[1;33m\u001b[0m\u001b[1;33m\u001b[0m\u001b[0m\n\u001b[0;32m     34\u001b[0m \u001b[1;33m\u001b[0m\u001b[0m\n",
      "\u001b[1;31mNameError\u001b[0m: name 'post_page' is not defined"
     ]
    }
   ],
   "source": [
    "# post total page list\n",
    "total_patent = []\n",
    "\n",
    "# post data\n",
    "for t,search_t in enumerate(searchText_T):\n",
    "    print(\"search num: \",t)\n",
    "    print(\"search text: \", search_t)\n",
    "    st = time.time()\n",
    "    pt_dict_list = []\n",
    "    # post first page\n",
    "    try:\n",
    "        q=q1+'\"'+searchText_T[t]+'\"'+q2+'\"'+searchText_T[t]+'\"'+q3\n",
    "        f = '&f=[\"patent_number\",\"patent_title\",\"patent_date\",\"ipc_section\",\"ipc_class\",\"ipc_subclass\",\"patent_type\",\"patent_abstract\"]'\n",
    "        o = '&o={\"page\":1,\"per_page\":10000}'\n",
    "        o1 = '&o={\"page\":'\n",
    "        o3 = ',\"per_page\":10000}'\n",
    "        o = o1+str(t+1)+o3\n",
    "        #print(q)\n",
    "        t_data = q+f+o\n",
    "        #print(t_data)\n",
    "        t_post = requests.post(url_post+t_data).json()\n",
    "        #print(t_post)\n",
    "        print(\"total_patent_num :\",t_post['total_patent_count'])\n",
    "        pt_dict_list.extend(t_post['patents'])\n",
    "        post_page = int(t_post['total_patent_count']/post_len)+2\n",
    "        print(\"post page: \",post_page)\n",
    "        \n",
    "    except:\n",
    "        print(\"=== Try error1 ===\")\n",
    "    \n",
    "    # post total page\n",
    "    if post_page >2:                   \n",
    "        for n in range(2,post_page):\n",
    "            \n",
    "            print(\"page number :\",n,\"/\",post_page)\n",
    "            try:\n",
    "                #data = post_data(n,post_len,patent_date,search_t)\n",
    "                js_data_post = requests.post(url_post+t_data).json()\n",
    "                pt_dict_list.extend(js_data_post['patents'])\n",
    "            \n",
    "            except:\n",
    "                print(\"=== Try error2 ===\")\n",
    "            \n",
    "            \n",
    "    et = time.time()\n",
    "    print(\"exe_time :\",et-st)\n",
    "    time.sleep(1)   \n",
    "    total_patent.extend(pt_dict_list)"
   ]
  },
  {
   "cell_type": "code",
   "execution_count": 72,
   "metadata": {},
   "outputs": [
    {
     "name": "stdout",
     "output_type": "stream",
     "text": [
      "7322\n"
     ]
    }
   ],
   "source": [
    "# Check Total Patent\n",
    "print(len(total_patent))"
   ]
  },
  {
   "cell_type": "markdown",
   "metadata": {},
   "source": [
    "## 4 Filter Ipc List"
   ]
  },
  {
   "cell_type": "code",
   "execution_count": null,
   "metadata": {},
   "outputs": [],
   "source": [
    "# 1) filter util patent (not design etc..)\n",
    "util_patent = []\n",
    "for pat in total_patent:\n",
    "\n",
    "    if pat['patent_type'] == 'utility':\n",
    "          util_patent.append(pat)\n",
    "\n",
    "print(util_patent[0])"
   ]
  },
  {
   "cell_type": "code",
   "execution_count": null,
   "metadata": {},
   "outputs": [],
   "source": [
    "# 2) ipcs ->list\n",
    "st = time.time()\n",
    "for d in util_patent:\n",
    "    ipc_list = []\n",
    "    for c in d['IPCs']:\n",
    "        # ==== ipc class prob ['g1c','g5d' ... ] ===== #\n",
    "        if len(str(c['ipc_class']))==1:\n",
    "            c['ipc_class'] = str('0') + c['ipc_class']\n",
    "\n",
    "        ipc = c['ipc_section'] + str(c['ipc_class']) + c['ipc_subclass']\n",
    "        ipc_list.append(ipc)\n",
    "    d['ipc_list'] = sorted(ipc_list)\n",
    "\n",
    "et = time.time()\n",
    "print(\"exe_time :\",et-st)\n",
    "\n",
    "print(util_patent[0])"
   ]
  },
  {
   "cell_type": "code",
   "execution_count": null,
   "metadata": {},
   "outputs": [],
   "source": [
    "# dict to dataframes\n",
    "df = pd.DataFrame.from_dict(util_patent).drop(['IPCs'],axis=1)\n",
    "\n",
    "print(df.iloc[0])\n",
    "print('='*50)\n",
    "print(df['ipc_list'][0])"
   ]
  },
  {
   "cell_type": "code",
   "execution_count": null,
   "metadata": {},
   "outputs": [],
   "source": [
    "df.head()"
   ]
  },
  {
   "cell_type": "markdown",
   "metadata": {},
   "source": [
    "## 5 Save to CSV File"
   ]
  },
  {
   "cell_type": "code",
   "execution_count": null,
   "metadata": {},
   "outputs": [],
   "source": [
    "df.to_csv(\"Self_Driving_Patent_recent_1years.csv\",encoding='utf8')"
   ]
  }
 ],
 "metadata": {
  "kernelspec": {
   "display_name": "Python 3",
   "language": "python",
   "name": "python3"
  },
  "language_info": {
   "codemirror_mode": {
    "name": "ipython",
    "version": 3
   },
   "file_extension": ".py",
   "mimetype": "text/x-python",
   "name": "python",
   "nbconvert_exporter": "python",
   "pygments_lexer": "ipython3",
   "version": "3.7.6"
  }
 },
 "nbformat": 4,
 "nbformat_minor": 4
}

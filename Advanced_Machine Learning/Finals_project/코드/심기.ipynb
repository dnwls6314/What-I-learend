{
 "cells": [
  {
   "cell_type": "code",
   "execution_count": 99,
   "metadata": {},
   "outputs": [
    {
     "data": {
      "text/html": [
       "<div>\n",
       "<style scoped>\n",
       "    .dataframe tbody tr th:only-of-type {\n",
       "        vertical-align: middle;\n",
       "    }\n",
       "\n",
       "    .dataframe tbody tr th {\n",
       "        vertical-align: top;\n",
       "    }\n",
       "\n",
       "    .dataframe thead th {\n",
       "        text-align: right;\n",
       "    }\n",
       "</style>\n",
       "<table border=\"1\" class=\"dataframe\">\n",
       "  <thead>\n",
       "    <tr style=\"text-align: right;\">\n",
       "      <th></th>\n",
       "      <th>attr0</th>\n",
       "      <th>attr1</th>\n",
       "      <th>attr2</th>\n",
       "      <th>attr3</th>\n",
       "      <th>attr4</th>\n",
       "      <th>attr5</th>\n",
       "      <th>attr6</th>\n",
       "      <th>attr7</th>\n",
       "      <th>attr8</th>\n",
       "      <th>attr9</th>\n",
       "      <th>output</th>\n",
       "    </tr>\n",
       "  </thead>\n",
       "  <tbody>\n",
       "    <tr>\n",
       "      <th>0</th>\n",
       "      <td>0.588680</td>\n",
       "      <td>0.994291</td>\n",
       "      <td>0.692638</td>\n",
       "      <td>0.492426</td>\n",
       "      <td>0.244472</td>\n",
       "      <td>0.737020</td>\n",
       "      <td>0.681701</td>\n",
       "      <td>0.181916</td>\n",
       "      <td>0.655073</td>\n",
       "      <td>0.162986</td>\n",
       "      <td>b'1'</td>\n",
       "    </tr>\n",
       "    <tr>\n",
       "      <th>1</th>\n",
       "      <td>0.761392</td>\n",
       "      <td>0.987276</td>\n",
       "      <td>0.767314</td>\n",
       "      <td>0.125468</td>\n",
       "      <td>0.705822</td>\n",
       "      <td>0.962866</td>\n",
       "      <td>0.418334</td>\n",
       "      <td>0.347568</td>\n",
       "      <td>0.443218</td>\n",
       "      <td>0.939095</td>\n",
       "      <td>b'1'</td>\n",
       "    </tr>\n",
       "    <tr>\n",
       "      <th>2</th>\n",
       "      <td>0.200499</td>\n",
       "      <td>0.346797</td>\n",
       "      <td>0.198434</td>\n",
       "      <td>0.832916</td>\n",
       "      <td>0.743052</td>\n",
       "      <td>0.334474</td>\n",
       "      <td>0.796501</td>\n",
       "      <td>0.002093</td>\n",
       "      <td>0.295237</td>\n",
       "      <td>0.445850</td>\n",
       "      <td>b'0'</td>\n",
       "    </tr>\n",
       "    <tr>\n",
       "      <th>3</th>\n",
       "      <td>0.726625</td>\n",
       "      <td>0.936809</td>\n",
       "      <td>0.103744</td>\n",
       "      <td>0.516967</td>\n",
       "      <td>0.683031</td>\n",
       "      <td>0.333098</td>\n",
       "      <td>0.635495</td>\n",
       "      <td>0.848070</td>\n",
       "      <td>0.263577</td>\n",
       "      <td>0.174056</td>\n",
       "      <td>b'0'</td>\n",
       "    </tr>\n",
       "    <tr>\n",
       "      <th>4</th>\n",
       "      <td>0.587769</td>\n",
       "      <td>0.010560</td>\n",
       "      <td>0.716553</td>\n",
       "      <td>0.826589</td>\n",
       "      <td>0.896887</td>\n",
       "      <td>0.118905</td>\n",
       "      <td>0.405279</td>\n",
       "      <td>0.530525</td>\n",
       "      <td>0.430691</td>\n",
       "      <td>0.991987</td>\n",
       "      <td>b'1'</td>\n",
       "    </tr>\n",
       "  </tbody>\n",
       "</table>\n",
       "</div>"
      ],
      "text/plain": [
       "      attr0     attr1     attr2     attr3     attr4     attr5     attr6  \\\n",
       "0  0.588680  0.994291  0.692638  0.492426  0.244472  0.737020  0.681701   \n",
       "1  0.761392  0.987276  0.767314  0.125468  0.705822  0.962866  0.418334   \n",
       "2  0.200499  0.346797  0.198434  0.832916  0.743052  0.334474  0.796501   \n",
       "3  0.726625  0.936809  0.103744  0.516967  0.683031  0.333098  0.635495   \n",
       "4  0.587769  0.010560  0.716553  0.826589  0.896887  0.118905  0.405279   \n",
       "\n",
       "      attr7     attr8     attr9 output  \n",
       "0  0.181916  0.655073  0.162986   b'1'  \n",
       "1  0.347568  0.443218  0.939095   b'1'  \n",
       "2  0.002093  0.295237  0.445850   b'0'  \n",
       "3  0.848070  0.263577  0.174056   b'0'  \n",
       "4  0.530525  0.430691  0.991987   b'1'  "
      ]
     },
     "execution_count": 99,
     "metadata": {},
     "output_type": "execute_result"
    }
   ],
   "source": [
    "from scipy.io import arff\n",
    "import pandas as pd\n",
    "import numpy as np\n",
    "from sklearn.metrics import classification_report\n",
    "from sklearn.metrics import accuracy_score\n",
    "\n",
    "data = arff.loadarff(\"./data/DriftSets/hyperplane6.arff\")\n",
    "df = pd.DataFrame(data[0])\n",
    "\n",
    "df.head()"
   ]
  },
  {
   "cell_type": "code",
   "execution_count": 100,
   "metadata": {},
   "outputs": [],
   "source": [
    "de=[]\n",
    "for a in df['output'].values:\n",
    "    de.append(a.decode())"
   ]
  },
  {
   "cell_type": "code",
   "execution_count": 101,
   "metadata": {},
   "outputs": [],
   "source": [
    "del df['output']"
   ]
  },
  {
   "cell_type": "code",
   "execution_count": 102,
   "metadata": {},
   "outputs": [],
   "source": [
    "df['output']=de"
   ]
  },
  {
   "cell_type": "code",
   "execution_count": 103,
   "metadata": {},
   "outputs": [
    {
     "data": {
      "text/html": [
       "<div>\n",
       "<style scoped>\n",
       "    .dataframe tbody tr th:only-of-type {\n",
       "        vertical-align: middle;\n",
       "    }\n",
       "\n",
       "    .dataframe tbody tr th {\n",
       "        vertical-align: top;\n",
       "    }\n",
       "\n",
       "    .dataframe thead th {\n",
       "        text-align: right;\n",
       "    }\n",
       "</style>\n",
       "<table border=\"1\" class=\"dataframe\">\n",
       "  <thead>\n",
       "    <tr style=\"text-align: right;\">\n",
       "      <th></th>\n",
       "      <th>attr0</th>\n",
       "      <th>attr1</th>\n",
       "      <th>attr2</th>\n",
       "      <th>attr3</th>\n",
       "      <th>attr4</th>\n",
       "      <th>attr5</th>\n",
       "      <th>attr6</th>\n",
       "      <th>attr7</th>\n",
       "      <th>attr8</th>\n",
       "      <th>attr9</th>\n",
       "      <th>output</th>\n",
       "    </tr>\n",
       "  </thead>\n",
       "  <tbody>\n",
       "    <tr>\n",
       "      <th>0</th>\n",
       "      <td>0.588680</td>\n",
       "      <td>0.994291</td>\n",
       "      <td>0.692638</td>\n",
       "      <td>0.492426</td>\n",
       "      <td>0.244472</td>\n",
       "      <td>0.737020</td>\n",
       "      <td>0.681701</td>\n",
       "      <td>0.181916</td>\n",
       "      <td>0.655073</td>\n",
       "      <td>0.162986</td>\n",
       "      <td>1</td>\n",
       "    </tr>\n",
       "    <tr>\n",
       "      <th>1</th>\n",
       "      <td>0.761392</td>\n",
       "      <td>0.987276</td>\n",
       "      <td>0.767314</td>\n",
       "      <td>0.125468</td>\n",
       "      <td>0.705822</td>\n",
       "      <td>0.962866</td>\n",
       "      <td>0.418334</td>\n",
       "      <td>0.347568</td>\n",
       "      <td>0.443218</td>\n",
       "      <td>0.939095</td>\n",
       "      <td>1</td>\n",
       "    </tr>\n",
       "    <tr>\n",
       "      <th>2</th>\n",
       "      <td>0.200499</td>\n",
       "      <td>0.346797</td>\n",
       "      <td>0.198434</td>\n",
       "      <td>0.832916</td>\n",
       "      <td>0.743052</td>\n",
       "      <td>0.334474</td>\n",
       "      <td>0.796501</td>\n",
       "      <td>0.002093</td>\n",
       "      <td>0.295237</td>\n",
       "      <td>0.445850</td>\n",
       "      <td>0</td>\n",
       "    </tr>\n",
       "    <tr>\n",
       "      <th>3</th>\n",
       "      <td>0.726625</td>\n",
       "      <td>0.936809</td>\n",
       "      <td>0.103744</td>\n",
       "      <td>0.516967</td>\n",
       "      <td>0.683031</td>\n",
       "      <td>0.333098</td>\n",
       "      <td>0.635495</td>\n",
       "      <td>0.848070</td>\n",
       "      <td>0.263577</td>\n",
       "      <td>0.174056</td>\n",
       "      <td>0</td>\n",
       "    </tr>\n",
       "    <tr>\n",
       "      <th>4</th>\n",
       "      <td>0.587769</td>\n",
       "      <td>0.010560</td>\n",
       "      <td>0.716553</td>\n",
       "      <td>0.826589</td>\n",
       "      <td>0.896887</td>\n",
       "      <td>0.118905</td>\n",
       "      <td>0.405279</td>\n",
       "      <td>0.530525</td>\n",
       "      <td>0.430691</td>\n",
       "      <td>0.991987</td>\n",
       "      <td>1</td>\n",
       "    </tr>\n",
       "    <tr>\n",
       "      <th>...</th>\n",
       "      <td>...</td>\n",
       "      <td>...</td>\n",
       "      <td>...</td>\n",
       "      <td>...</td>\n",
       "      <td>...</td>\n",
       "      <td>...</td>\n",
       "      <td>...</td>\n",
       "      <td>...</td>\n",
       "      <td>...</td>\n",
       "      <td>...</td>\n",
       "      <td>...</td>\n",
       "    </tr>\n",
       "    <tr>\n",
       "      <th>9995</th>\n",
       "      <td>0.400476</td>\n",
       "      <td>0.366739</td>\n",
       "      <td>0.014778</td>\n",
       "      <td>0.392485</td>\n",
       "      <td>0.512218</td>\n",
       "      <td>0.202046</td>\n",
       "      <td>0.437779</td>\n",
       "      <td>0.768193</td>\n",
       "      <td>0.615782</td>\n",
       "      <td>0.721150</td>\n",
       "      <td>1</td>\n",
       "    </tr>\n",
       "    <tr>\n",
       "      <th>9996</th>\n",
       "      <td>0.249982</td>\n",
       "      <td>0.820053</td>\n",
       "      <td>0.564774</td>\n",
       "      <td>0.271589</td>\n",
       "      <td>0.657724</td>\n",
       "      <td>0.731979</td>\n",
       "      <td>0.811500</td>\n",
       "      <td>0.463711</td>\n",
       "      <td>0.914278</td>\n",
       "      <td>0.713895</td>\n",
       "      <td>1</td>\n",
       "    </tr>\n",
       "    <tr>\n",
       "      <th>9997</th>\n",
       "      <td>0.409096</td>\n",
       "      <td>0.228425</td>\n",
       "      <td>0.607483</td>\n",
       "      <td>0.325246</td>\n",
       "      <td>0.756762</td>\n",
       "      <td>0.052312</td>\n",
       "      <td>0.497422</td>\n",
       "      <td>0.154382</td>\n",
       "      <td>0.170557</td>\n",
       "      <td>0.614689</td>\n",
       "      <td>1</td>\n",
       "    </tr>\n",
       "    <tr>\n",
       "      <th>9998</th>\n",
       "      <td>0.060611</td>\n",
       "      <td>0.570429</td>\n",
       "      <td>0.590032</td>\n",
       "      <td>0.569474</td>\n",
       "      <td>0.304741</td>\n",
       "      <td>0.760363</td>\n",
       "      <td>0.253692</td>\n",
       "      <td>0.347916</td>\n",
       "      <td>0.809181</td>\n",
       "      <td>0.304610</td>\n",
       "      <td>1</td>\n",
       "    </tr>\n",
       "    <tr>\n",
       "      <th>9999</th>\n",
       "      <td>0.661866</td>\n",
       "      <td>0.413878</td>\n",
       "      <td>0.764754</td>\n",
       "      <td>0.308570</td>\n",
       "      <td>0.732954</td>\n",
       "      <td>0.866010</td>\n",
       "      <td>0.442453</td>\n",
       "      <td>0.882727</td>\n",
       "      <td>0.309690</td>\n",
       "      <td>0.342325</td>\n",
       "      <td>0</td>\n",
       "    </tr>\n",
       "  </tbody>\n",
       "</table>\n",
       "<p>10000 rows × 11 columns</p>\n",
       "</div>"
      ],
      "text/plain": [
       "         attr0     attr1     attr2     attr3     attr4     attr5     attr6  \\\n",
       "0     0.588680  0.994291  0.692638  0.492426  0.244472  0.737020  0.681701   \n",
       "1     0.761392  0.987276  0.767314  0.125468  0.705822  0.962866  0.418334   \n",
       "2     0.200499  0.346797  0.198434  0.832916  0.743052  0.334474  0.796501   \n",
       "3     0.726625  0.936809  0.103744  0.516967  0.683031  0.333098  0.635495   \n",
       "4     0.587769  0.010560  0.716553  0.826589  0.896887  0.118905  0.405279   \n",
       "...        ...       ...       ...       ...       ...       ...       ...   \n",
       "9995  0.400476  0.366739  0.014778  0.392485  0.512218  0.202046  0.437779   \n",
       "9996  0.249982  0.820053  0.564774  0.271589  0.657724  0.731979  0.811500   \n",
       "9997  0.409096  0.228425  0.607483  0.325246  0.756762  0.052312  0.497422   \n",
       "9998  0.060611  0.570429  0.590032  0.569474  0.304741  0.760363  0.253692   \n",
       "9999  0.661866  0.413878  0.764754  0.308570  0.732954  0.866010  0.442453   \n",
       "\n",
       "         attr7     attr8     attr9 output  \n",
       "0     0.181916  0.655073  0.162986      1  \n",
       "1     0.347568  0.443218  0.939095      1  \n",
       "2     0.002093  0.295237  0.445850      0  \n",
       "3     0.848070  0.263577  0.174056      0  \n",
       "4     0.530525  0.430691  0.991987      1  \n",
       "...        ...       ...       ...    ...  \n",
       "9995  0.768193  0.615782  0.721150      1  \n",
       "9996  0.463711  0.914278  0.713895      1  \n",
       "9997  0.154382  0.170557  0.614689      1  \n",
       "9998  0.347916  0.809181  0.304610      1  \n",
       "9999  0.882727  0.309690  0.342325      0  \n",
       "\n",
       "[10000 rows x 11 columns]"
      ]
     },
     "execution_count": 103,
     "metadata": {},
     "output_type": "execute_result"
    }
   ],
   "source": [
    "df"
   ]
  },
  {
   "cell_type": "code",
   "execution_count": 104,
   "metadata": {},
   "outputs": [],
   "source": [
    "X=df.iloc[:,0:10].values"
   ]
  },
  {
   "cell_type": "code",
   "execution_count": 105,
   "metadata": {},
   "outputs": [],
   "source": [
    "df['output']=df['output'].astype(str).astype(int)"
   ]
  },
  {
   "cell_type": "code",
   "execution_count": 106,
   "metadata": {},
   "outputs": [],
   "source": [
    "y=df['output'].values"
   ]
  },
  {
   "cell_type": "code",
   "execution_count": 107,
   "metadata": {},
   "outputs": [
    {
     "data": {
      "text/plain": [
       "array([1, 1, 0, ..., 1, 1, 0])"
      ]
     },
     "execution_count": 107,
     "metadata": {},
     "output_type": "execute_result"
    }
   ],
   "source": [
    "y"
   ]
  },
  {
   "cell_type": "code",
   "execution_count": 185,
   "metadata": {},
   "outputs": [],
   "source": [
    "def divide_list(l, n): \n",
    "    # 리스트 l의 길이가 n이면 계속 반복\n",
    "    for i in range(0, len(l), n): \n",
    "        yield l[i:i + n] \n",
    "# 한 리스트에 몇개씩 담을지 결정\n",
    "n = 200\n"
   ]
  },
  {
   "cell_type": "code",
   "execution_count": 187,
   "metadata": {},
   "outputs": [],
   "source": [
    "result1 = list(divide_list(X, n))\n",
    "result2 = list(divide_list(y, n))"
   ]
  },
  {
   "cell_type": "code",
   "execution_count": 188,
   "metadata": {},
   "outputs": [
    {
     "ename": "ValueError",
     "evalue": "too many values to unpack (expected 2)",
     "output_type": "error",
     "traceback": [
      "\u001b[1;31m---------------------------------------------------------------------------\u001b[0m",
      "\u001b[1;31mValueError\u001b[0m                                Traceback (most recent call last)",
      "\u001b[1;32m<ipython-input-188-c509edf3c082>\u001b[0m in \u001b[0;36m<module>\u001b[1;34m\u001b[0m\n\u001b[0;32m      2\u001b[0m \u001b[1;32mfrom\u001b[0m \u001b[0msklearn\u001b[0m\u001b[1;33m.\u001b[0m\u001b[0mensemble\u001b[0m \u001b[1;32mimport\u001b[0m \u001b[0mRandomForestClassifier\u001b[0m\u001b[1;33m\u001b[0m\u001b[1;33m\u001b[0m\u001b[0m\n\u001b[0;32m      3\u001b[0m \u001b[0mrfc\u001b[0m \u001b[1;33m=\u001b[0m \u001b[0mRandomForestClassifier\u001b[0m\u001b[1;33m(\u001b[0m\u001b[0mn_estimators\u001b[0m\u001b[1;33m=\u001b[0m\u001b[1;36m3\u001b[0m\u001b[1;33m,\u001b[0m \u001b[0mwarm_start\u001b[0m\u001b[1;33m=\u001b[0m\u001b[1;32mTrue\u001b[0m\u001b[1;33m)\u001b[0m\u001b[1;33m\u001b[0m\u001b[1;33m\u001b[0m\u001b[0m\n\u001b[1;32m----> 4\u001b[1;33m \u001b[1;32mfor\u001b[0m \u001b[0ma\u001b[0m\u001b[1;33m,\u001b[0m\u001b[0mb\u001b[0m \u001b[1;32min\u001b[0m \u001b[1;33m[\u001b[0m\u001b[0mresult1\u001b[0m\u001b[1;33m,\u001b[0m \u001b[0mresult2\u001b[0m\u001b[1;33m]\u001b[0m\u001b[1;33m:\u001b[0m\u001b[1;33m\u001b[0m\u001b[1;33m\u001b[0m\u001b[0m\n\u001b[0m\u001b[0;32m      5\u001b[0m \u001b[1;33m\u001b[0m\u001b[0m\n\u001b[0;32m      6\u001b[0m     \u001b[0mrfc\u001b[0m\u001b[1;33m.\u001b[0m\u001b[0mfit\u001b[0m\u001b[1;33m(\u001b[0m\u001b[0ma\u001b[0m\u001b[1;33m,\u001b[0m \u001b[0mb\u001b[0m\u001b[1;33m)\u001b[0m\u001b[1;33m\u001b[0m\u001b[1;33m\u001b[0m\u001b[0m\n",
      "\u001b[1;31mValueError\u001b[0m: too many values to unpack (expected 2)"
     ]
    }
   ],
   "source": [
    "### RandomForestClassifier\n",
    "from sklearn.ensemble import RandomForestClassifier\n",
    "rfc = RandomForestClassifier(n_estimators=3, warm_start=True)\n",
    "for a,b in [result1, result2]:\n",
    "    \n",
    "    rfc.fit(a, b)\n",
    "    print(rfc.score(X,y))\n",
    "    \n",
    "# rfc.fit(X[:50], y[:50])\n",
    "# print(rfc.score(X, y))\n",
    "# rfc.n_estimators += 10\n",
    "# rfc.fit(X[51:100], y[51:100])\n",
    "# print(rfc.score(X, y))\n",
    "# rfc.n_estimators += 10\n",
    "# rfc.fit(X[101:150], y[101:150])\n",
    "# print(rfc.score(X, y))\n",
    "# rfc.n_estimators += 10\n",
    "# rfc.fit(X[150:200], y[150:200])\n",
    "# print(rfc.score(X, y))"
   ]
  },
  {
   "cell_type": "code",
   "execution_count": 181,
   "metadata": {},
   "outputs": [
    {
     "name": "stdout",
     "output_type": "stream",
     "text": [
      "0.5421\n"
     ]
    },
    {
     "name": "stderr",
     "output_type": "stream",
     "text": [
      "C:\\Users\\hans6\\Anaconda3\\lib\\site-packages\\sklearn\\ensemble\\_forest.py:359: UserWarning: Warm-start fitting without increasing n_estimators does not fit new trees.\n",
      "  warn(\"Warm-start fitting without increasing n_estimators does not \"\n"
     ]
    }
   ],
   "source": [
    "rfc.fit(X[:10000], y[:10000])\n",
    "print(rfc.score(X, y))"
   ]
  },
  {
   "cell_type": "code",
   "execution_count": 166,
   "metadata": {
    "collapsed": true
   },
   "outputs": [
    {
     "ename": "ValueError",
     "evalue": "Classification metrics can't handle a mix of binary and continuous-multioutput targets",
     "output_type": "error",
     "traceback": [
      "\u001b[1;31m---------------------------------------------------------------------------\u001b[0m",
      "\u001b[1;31mValueError\u001b[0m                                Traceback (most recent call last)",
      "\u001b[1;32m<ipython-input-166-e4de3564cd8c>\u001b[0m in \u001b[0;36m<module>\u001b[1;34m\u001b[0m\n\u001b[0;32m      1\u001b[0m \u001b[1;32mfrom\u001b[0m \u001b[0msklearn\u001b[0m\u001b[1;33m.\u001b[0m\u001b[0mmetrics\u001b[0m \u001b[1;32mimport\u001b[0m \u001b[0mclassification_report\u001b[0m\u001b[1;33m\u001b[0m\u001b[1;33m\u001b[0m\u001b[0m\n\u001b[1;32m----> 2\u001b[1;33m \u001b[0mprint\u001b[0m\u001b[1;33m(\u001b[0m\u001b[0mclassification_report\u001b[0m\u001b[1;33m(\u001b[0m\u001b[0my\u001b[0m\u001b[1;33m,\u001b[0m\u001b[0mX\u001b[0m\u001b[1;33m)\u001b[0m\u001b[1;33m)\u001b[0m\u001b[1;33m\u001b[0m\u001b[1;33m\u001b[0m\u001b[0m\n\u001b[0m",
      "\u001b[1;32m~\\Anaconda3\\lib\\site-packages\\sklearn\\metrics\\_classification.py\u001b[0m in \u001b[0;36mclassification_report\u001b[1;34m(y_true, y_pred, labels, target_names, sample_weight, digits, output_dict, zero_division)\u001b[0m\n\u001b[0;32m   1969\u001b[0m     \"\"\"\n\u001b[0;32m   1970\u001b[0m \u001b[1;33m\u001b[0m\u001b[0m\n\u001b[1;32m-> 1971\u001b[1;33m     \u001b[0my_type\u001b[0m\u001b[1;33m,\u001b[0m \u001b[0my_true\u001b[0m\u001b[1;33m,\u001b[0m \u001b[0my_pred\u001b[0m \u001b[1;33m=\u001b[0m \u001b[0m_check_targets\u001b[0m\u001b[1;33m(\u001b[0m\u001b[0my_true\u001b[0m\u001b[1;33m,\u001b[0m \u001b[0my_pred\u001b[0m\u001b[1;33m)\u001b[0m\u001b[1;33m\u001b[0m\u001b[1;33m\u001b[0m\u001b[0m\n\u001b[0m\u001b[0;32m   1972\u001b[0m \u001b[1;33m\u001b[0m\u001b[0m\n\u001b[0;32m   1973\u001b[0m     \u001b[0mlabels_given\u001b[0m \u001b[1;33m=\u001b[0m \u001b[1;32mTrue\u001b[0m\u001b[1;33m\u001b[0m\u001b[1;33m\u001b[0m\u001b[0m\n",
      "\u001b[1;32m~\\Anaconda3\\lib\\site-packages\\sklearn\\metrics\\_classification.py\u001b[0m in \u001b[0;36m_check_targets\u001b[1;34m(y_true, y_pred)\u001b[0m\n\u001b[0;32m     88\u001b[0m     \u001b[1;32mif\u001b[0m \u001b[0mlen\u001b[0m\u001b[1;33m(\u001b[0m\u001b[0my_type\u001b[0m\u001b[1;33m)\u001b[0m \u001b[1;33m>\u001b[0m \u001b[1;36m1\u001b[0m\u001b[1;33m:\u001b[0m\u001b[1;33m\u001b[0m\u001b[1;33m\u001b[0m\u001b[0m\n\u001b[0;32m     89\u001b[0m         raise ValueError(\"Classification metrics can't handle a mix of {0} \"\n\u001b[1;32m---> 90\u001b[1;33m                          \"and {1} targets\".format(type_true, type_pred))\n\u001b[0m\u001b[0;32m     91\u001b[0m \u001b[1;33m\u001b[0m\u001b[0m\n\u001b[0;32m     92\u001b[0m     \u001b[1;31m# We can't have more than one value on y_type => The set is no more needed\u001b[0m\u001b[1;33m\u001b[0m\u001b[1;33m\u001b[0m\u001b[1;33m\u001b[0m\u001b[0m\n",
      "\u001b[1;31mValueError\u001b[0m: Classification metrics can't handle a mix of binary and continuous-multioutput targets"
     ]
    }
   ],
   "source": [
    "from sklearn.metrics import classification_report\n",
    "print(classification_report(y,X))"
   ]
  },
  {
   "cell_type": "code",
   "execution_count": 75,
   "metadata": {
    "scrolled": true
   },
   "outputs": [
    {
     "data": {
      "text/plain": [
       "10000"
      ]
     },
     "execution_count": 75,
     "metadata": {},
     "output_type": "execute_result"
    }
   ],
   "source": [
    "len(X)"
   ]
  },
  {
   "cell_type": "code",
   "execution_count": 59,
   "metadata": {
    "scrolled": true
   },
   "outputs": [
    {
     "data": {
      "text/plain": [
       "array([1, 1, 0, ..., 1, 1, 0])"
      ]
     },
     "execution_count": 59,
     "metadata": {},
     "output_type": "execute_result"
    }
   ],
   "source": [
    "y"
   ]
  },
  {
   "cell_type": "code",
   "execution_count": null,
   "metadata": {},
   "outputs": [],
   "source": [
    "rf = RandomForestClassifier(n_estimators=1, warm_start=True)                     \n",
    "rf.fit(X_train, y_train)\n",
    "rf.n_estimators += 1\n",
    "rf.fit(X_train, y_train) "
   ]
  },
  {
   "cell_type": "code",
   "execution_count": null,
   "metadata": {},
   "outputs": [],
   "source": []
  },
  {
   "cell_type": "code",
   "execution_count": null,
   "metadata": {},
   "outputs": [],
   "source": []
  },
  {
   "cell_type": "code",
   "execution_count": null,
   "metadata": {},
   "outputs": [],
   "source": []
  },
  {
   "cell_type": "code",
   "execution_count": null,
   "metadata": {},
   "outputs": [],
   "source": []
  },
  {
   "cell_type": "code",
   "execution_count": null,
   "metadata": {},
   "outputs": [],
   "source": []
  },
  {
   "cell_type": "code",
   "execution_count": null,
   "metadata": {},
   "outputs": [],
   "source": []
  },
  {
   "cell_type": "code",
   "execution_count": null,
   "metadata": {},
   "outputs": [],
   "source": []
  },
  {
   "cell_type": "code",
   "execution_count": null,
   "metadata": {},
   "outputs": [],
   "source": []
  },
  {
   "cell_type": "code",
   "execution_count": null,
   "metadata": {},
   "outputs": [],
   "source": []
  },
  {
   "cell_type": "code",
   "execution_count": null,
   "metadata": {},
   "outputs": [],
   "source": []
  }
 ],
 "metadata": {
  "kernelspec": {
   "display_name": "Python 3",
   "language": "python",
   "name": "python3"
  },
  "language_info": {
   "codemirror_mode": {
    "name": "ipython",
    "version": 3
   },
   "file_extension": ".py",
   "mimetype": "text/x-python",
   "name": "python",
   "nbconvert_exporter": "python",
   "pygments_lexer": "ipython3",
   "version": "3.7.6"
  }
 },
 "nbformat": 4,
 "nbformat_minor": 4
}

{
 "cells": [
  {
   "cell_type": "code",
   "execution_count": 1,
   "metadata": {},
   "outputs": [],
   "source": [
    "import pandas as pd\n",
    "import numpy as np"
   ]
  },
  {
   "cell_type": "code",
   "execution_count": 6,
   "metadata": {},
   "outputs": [],
   "source": [
    "def get_order(structure):\n",
    "    return list(structure.keys())"
   ]
  },
  {
   "cell_type": "code",
   "execution_count": 10,
   "metadata": {},
   "outputs": [],
   "source": [
    "str1={'A':[],'S':[],'E':['A','S'],'O':['E'],'R':['E'],'T':['O','R']}\n",
    "str2={'A':['E'],'S':['A','E'],'E':['O','R'],'O':['R','T'],'R':['T'],'T':[]}"
   ]
  },
  {
   "cell_type": "code",
   "execution_count": 12,
   "metadata": {},
   "outputs": [],
   "source": [
    "new_list2=list()\n"
   ]
  },
  {
   "cell_type": "code",
   "execution_count": 50,
   "metadata": {},
   "outputs": [
    {
     "data": {
      "text/plain": [
       "{'A': ['E'],\n",
       " 'S': ['A', 'E'],\n",
       " 'E': ['O', 'R'],\n",
       " 'O': ['R', 'T'],\n",
       " 'R': ['T'],\n",
       " 'T': []}"
      ]
     },
     "execution_count": 50,
     "metadata": {},
     "output_type": "execute_result"
    }
   ],
   "source": [
    "str2"
   ]
  },
  {
   "cell_type": "code",
   "execution_count": 54,
   "metadata": {},
   "outputs": [],
   "source": [
    "def get_order(structure):\n",
    "    # structure: dictionary of structure\n",
    "    #            key is variable and value is parents of a variable\n",
    "    # return list of learning order of variables \n",
    "    # ex) ['A', 'R', 'E', 'S', 'T', 'O']\n",
    "    new_list = list()\n",
    "    for k, v in structure.items():\n",
    "        if not v:\n",
    "            new_list.append(k)\n",
    "            \n",
    "    for k, v in structure.items():\n",
    "        for p in v:\n",
    "            if p in new_list and k not in new_list:\n",
    "                new_list.append(k)\n",
    "                \n",
    "    for k, v in structure.items():\n",
    "        for att in v:\n",
    "            if att not in new_list:\n",
    "                new_list.append(att)\n",
    "                \n",
    "    for k,v in structure.items():\n",
    "        if k not in new_list:\n",
    "            new_list.append(k)\n",
    "    \n",
    "    return new_list"
   ]
  },
  {
   "cell_type": "code",
   "execution_count": null,
   "metadata": {},
   "outputs": [],
   "source": []
  },
  {
   "cell_type": "code",
   "execution_count": null,
   "metadata": {},
   "outputs": [],
   "source": [
    "def learn_parms(data,structure,var_order):\n",
    "    # data: training data\n",
    "    # structure: dictionary of structure\n",
    "    # var_order: list of learning order of variables\n",
    "    # return dictionary of trained parameters (key=variable, value=learned parameters)\n",
    "    df=pd.DataFrame(structure)\n",
    "    df.groupby(['type', 'rating']).size().div(len(df)).div(rating_probs, axis=0, level='rating')"
   ]
  },
  {
   "cell_type": "code",
   "execution_count": null,
   "metadata": {},
   "outputs": [],
   "source": [
    "def print_parms(var_order,parms):\n",
    "    # var_order: list of learning order of variables\n",
    "    # parms: dictionary of trained parameters (key=variable, value=learned parameters)\n",
    "    # print the trained parameters for each variable\n",
    "    for var in var_order:\n",
    "        print('-------------------------')\n",
    "        print('Variable Name=%s'%(var))\n",
    "        #TODO: print the trained paramters"
   ]
  },
  {
   "cell_type": "code",
   "execution_count": null,
   "metadata": {},
   "outputs": [],
   "source": [
    "data=pd.read_csv('https://drive.google.com/uc?export=download&id=1taoE9WlUUN4IbzDzHv7mxk_xSj07f-Zt', sep=' ')\n",
    "\n",
    "str1={'A':[],'S':[],'E':['A','S'],'O':['E'],'R':['E'],'T':['O','R']}\n",
    "order1=get_order(str1)\n",
    "parms1=learn_parms(data,str1,get_order(str1))\n",
    "print('-----First Structure------')\n",
    "print_parms(order1,parms1)\n",
    "print('')\n",
    "\n",
    "str2={'A':['E'],'S':['A','E'],'E':['O','R'],'O':['R','T'],'R':['T'],'T':[]}\n",
    "order2=get_order(str2)\n",
    "parms2=learn_parms(data,str2,get_order(str2))\n",
    "print('-----Second Structure-----')\n",
    "print_parms(order2,parms2)\n",
    "print('')"
   ]
  }
 ],
 "metadata": {
  "kernelspec": {
   "display_name": "Python 3",
   "language": "python",
   "name": "python3"
  },
  "language_info": {
   "codemirror_mode": {
    "name": "ipython",
    "version": 3
   },
   "file_extension": ".py",
   "mimetype": "text/x-python",
   "name": "python",
   "nbconvert_exporter": "python",
   "pygments_lexer": "ipython3",
   "version": "3.7.6"
  }
 },
 "nbformat": 4,
 "nbformat_minor": 4
}

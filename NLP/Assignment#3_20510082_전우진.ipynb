{
 "cells": [
  {
   "cell_type": "code",
   "execution_count": 1,
   "metadata": {},
   "outputs": [],
   "source": [
    "from konlpy.tag import Hannanum\n",
    "from pprint import pprint\n",
    "import nltk"
   ]
  },
  {
   "cell_type": "markdown",
   "metadata": {},
   "source": [
    "# Bag-of-model"
   ]
  },
  {
   "cell_type": "code",
   "execution_count": 3,
   "metadata": {},
   "outputs": [],
   "source": [
    "doc = open('C:\\\\Users\\\\Woojin\\\\OneDrive - 서울과학기술대학교\\\\2020_2\\\\비정형\\\\과제\\\\김구.txt', 'r', encoding='utf-8').read()"
   ]
  },
  {
   "cell_type": "code",
   "execution_count": 4,
   "metadata": {},
   "outputs": [
    {
     "name": "stdout",
     "output_type": "stream",
     "text": [
      "['친애/N', '하/X', '는/E', '3천/N', '만/J', '자매/N', '형제/N', '이/J', '어/E', '!/S']\n",
      "['친애/N', '3천/N', '자매/N', '형제/N', '우리/N', '국내외/N', '정세/N', '위/N', '저/N', '2차/N']\n"
     ]
    }
   ],
   "source": [
    "# Hannanum package\n",
    "pos_tagger = Hannanum()\n",
    "\n",
    "# list comprehension, for loop가 빨라짐, 간결한 표현\n",
    "pos = ['/'.join(t) for t in pos_tagger.pos(doc)] # 형태소로 tokenizing\n",
    "\n",
    "# 뉴스를 tokenizing한 후, 명사만 추출\n",
    "pos_nouns = ['/'.join(t) for t in pos_tagger.pos(doc) if t[1]=='N']\n",
    "\n",
    "# list 원소 중 10개를 살펴보기\n",
    "pprint(pos[0:10])\n",
    "\n",
    "# list 원소 모두 출력\n",
    "pprint(pos_nouns[0:10])"
   ]
  },
  {
   "cell_type": "code",
   "execution_count": 5,
   "metadata": {},
   "outputs": [],
   "source": [
    "text = nltk.Text(pos_nouns)"
   ]
  },
  {
   "cell_type": "markdown",
   "metadata": {},
   "source": [
    "# TF-IDF 벡터"
   ]
  },
  {
   "cell_type": "code",
   "execution_count": 6,
   "metadata": {},
   "outputs": [],
   "source": [
    "from konlpy.tag import Twitter\n",
    "import pandas as pd"
   ]
  },
  {
   "cell_type": "code",
   "execution_count": 7,
   "metadata": {},
   "outputs": [
    {
     "name": "stderr",
     "output_type": "stream",
     "text": [
      "C:\\Users\\Woojin\\anaconda3\\lib\\site-packages\\konlpy\\tag\\_okt.py:16: UserWarning: \"Twitter\" has changed to \"Okt\" since KoNLPy v0.4.5.\n",
      "  warn('\"Twitter\" has changed to \"Okt\" since KoNLPy v0.4.5.')\n"
     ]
    }
   ],
   "source": [
    "pos_tagger = Twitter()"
   ]
  },
  {
   "cell_type": "code",
   "execution_count": 30,
   "metadata": {},
   "outputs": [],
   "source": [
    "txt = pd.read_csv('C:\\\\Users\\\\Woojin\\\\OneDrive - 서울과학기술대학교\\\\2020_2\\\\비정형\\\\과제\\\\society_news.csv', encoding='utf-8')\n",
    "\n",
    "stopword = ['것','수','저']\n",
    "total_news = []\n",
    "\n",
    "for news in txt['contents'].head():\n",
    "    pos_news = ['/'.join(t[:-1]) for t in pos_tagger.pos(news) if ((t[1]=='Noun') & (t[0] not in stopword))]\n",
    "    total_news.append(' '.join(pos_news))"
   ]
  },
  {
   "cell_type": "code",
   "execution_count": 31,
   "metadata": {},
   "outputs": [
    {
     "data": {
      "text/plain": [
       "['노동청 앵커 볼트 매립 부분 이상 확인 전면 작업중 명령 예산 연합뉴스 재림 기자 근로자 명 추락 대전 당진 고속도로 차 교 점검 시설 물 불량 시공 정황 발견 고광훈 대전 지방 고용 노동청 천안 지청장 날 사고 현장 연합뉴스 취재 진과 앵커 볼트 매립 부분 이상 점 발견 고 말 앵커 볼트 교량 점검 시설 사형 계단 다리 주요 부품 해당 시설 시공 파악 대전 고용 노동청 천안 지청 차 교 공사 구간 전면 작업중 명령 고 지청장 사항 조사 계획 라며 공사 진행 업체 작업 고속도로 모든 구간 대해 서도 안전 시공 여부 날 사고 발생 지점 충남 예산군 대전 당진 고속도로 차 교 번 교각 고속도로 하부 교량 점검 시설 씨 등 근로자 명 아래 땅바닥 근로자 육중 무게 발전기 이동 시설 물 추락 사고 당시 현장 사고 근로자 외 다른 공사 관계자 정황 만큼 노동청 감독 위치 등 대해 확인 방침 노동청 관계자 차 교 번 교각 근로자 날 번 순서대로 보수 진행 참으로 파악 며 관리 감독 책임자 사고 당한 경찰 유지 보수 공사 발주 한국 도로공사 상대로 사전 점검 매뉴얼 준수 여부 계획 오전 국립 과학 연구원 현장 감식 진행 예정',\n",
       " '아시아 경제 장용진 기자 안 미현 검사 수사 외압 의혹 제기로 촉발 검찰 내부 항 파동 문수사 문단 회의 이후 마무리 단계 당초 안 미현 검사 수사 외압 의혹 힘 실어 문무 일 검찰총장 정면 반기 강원랜드 채용 비리 사단 단장 부남 검사 은 대검 부패 부장 등 불기소 자문 단 회의 결과 외압부분 대한 전문 문단 심의 결과 겸허 자문 단 심의 결과 발표 사단 입장 뒤 새벽 사단 만족 결과 일 수도 수사 마무리 위해 선택 시각 문무 일 검찰총장 입장 사건 처리 과정 결재 보고 사이 이견 검찰 의사결정 시스템 중 시대 부분 보고 국민 기대 개선 사건 처리 과정 노출 불협화음 검찰 사건 처리 과정 자연 현상 해명 논란 파문 수습 의지 표명 풀이 이후 검찰 오전 곧바로 법원 자유 한국 권성동 의원 대한 구속영장 청구 영장 청구 결정 과정 한번 결정 난 이상 시간 지체 필요 판단 또 현직 국회의원 경우 영장 실질 심사 앞서 국회 체포 의안 의결 절차 때문 법원 쪽 절차 주말 동안 진행 경우 상황 국회 보고 염동열 홍문종 의원 대한 체포 동의 안과 진행 가능성 고려 이처럼 검찰 평정 이번 항 파동 후 폭풍 이제 시작 게 법조 전망 비록 외형 사태 수습 이번 사태 연루 고위 검사 현직 계속 유지 우려 검찰 출신 변호사 씨 항 가담 의혹 대상 논란 중심 사람 현직 수도 고 말 진위 여부 조직 부담 때문 그 강원랜드 수사 마무리 뒤 정기 인사 용퇴 모습 수도 전망 일부 이번 사건 가장 상처 문무 일 검찰총장 총장 역시 퇴진 시점 고민 전망 청와대 문 총장 대한 신임 재 확인 자문 단 위원 대부분 문 총장 잘못 전혀 입장 만큼 총장 거취 문제 발전 반론 한편 이번 사태 발단 제공 안 미현 검사 관련 징계 가능성 검찰 안팎 전망',\n",
       " '대구 서울 연합뉴스 이강일 이재영 기자 현장 체험학습 중 용변 학생 버스 용변 휴게소 혼자 뒤 혐의 기소 초등학교 교사 벌금형 선고 대구 지법 형사 단독 김부 부장 판사 아동복지법 위반 아동 유기 방임 혐의 재판 대구 모 초교 교사 대해 벌금 선고 김 부장 판사 피고인 피해자 보호자 때 보호 조치 취해 의무 피해자 장소 인도 거나 성인 보호 의뢰 등 기본 보호 조치 전혀 채 버스 해 방임 인정 고 교사 지난해 독립기념관 현장 체험학습 중 휴게소 여 분 지점 학생 복통 호소 버스 안 비닐봉지 용변 이후 교사 학생 부모 연락 학생 고속도로 휴게소 말 학생 휴게소 혼자 해당 학생 부모 도착 때 혼자 휴게소 학부모 문제 삼자 학교 측 아동학대 관련 기관 신고 교사 경찰 수사 약식 기소 정식 재판 청구 아동복지법 아동학대 관련 범죄 형 확정 동안 아동 관련 기관 운영 거나 관련 기관 취업 노무 제공 즉 학교 유치원 아이 학원 교습 소 일 교원단체 노조 날 판결 일제 비판 전국 교직원 노동조합 전교조 은 성명 비상 적 판결 수긍 면서 체험학습 중 돌발상황 대한 대처 일부 최선 게 교직 잘못 고 주장 전교조 학교 현장 사안 교사 아동복지법 위반 자로 발생 면서 나름 최선 교사 조처 해직 답 교사 일상 살얼음 걷기 지적 김재철 한국 교원단체 연합 회 교총 대변인 앞뒤 상황 고려 과 판결 라며 돌발상황 발생 체험 활동 점차 강조 상황 이번 판결 위축 고 말 그 교사 아동 지도 아동복지법 위반 정도 벌금형 아동 관련 기관 취업 면서 교육활동 위축 과도 규정 아동복지법 개정 고 강조',\n",
       " '세종 뉴시스 임 재희 기자 우리나라 노인 명중 명 일주일 이상 육류 생선 과일 섭취 겨울철 난방 미래 대비 저축 연금 보험 가입 률 등 상대 박탈 률 한국 보건 사회 연구원 사회 통합 실태 진단 및 대응 방안 연구 보고서 지난해 세 이상 남녀 명 대상 물리 박탈 정도 조사 결과 조사 기초 생활 식 의 생활 주택 및 주거 환경 의료 및 건강 미래 대비 박탈 등 상대 박탈 과 경제 어려움 대표 절대 박탈 등 개 문항 대해 박탈 유무 방식 기초 생활 부문 평균 일주일 한번 이상 고기 생선 사 물음 답 과일 일주일 한번 이상 섭취 응답 전체 평균 배 가량 수치 커피 아이스크림 등 기호식품 가끔 비율 절기 의류 벌 이상 미보 유 계절 정장 미보 유 등 문항 평균 최대 배 정도 박탈 률 보고서 식생활 의 생활 초생 박탈 세 이상 노인 인구 평균 배 며 노년기 빈곤 영양 불균형 문제 음 시사 고 분석 주거 환경 경우 에너지 박탈 노년 층 확인 겨울 돈 난방 못 경험 노인 전체 로 세 미만 청년 배 가까이 대중교통 접근 경우 옥탑방 반 지하 거주 전용 수세식 화장실 및 온수 목욕 시설 설치 등 다른 연령 층 박탈 정도 박탈 률 상대 가장 분야 미래 대비 노인 응답 가운데 저축 연금 보험 각각 가입 못 상태 이 박탈 률 보고서 성적 빈곤 율 지출 여력 부재 반영 결과 해석 고 설명 한국 노인 빈곤 율 를 육박 통계청 세 이상 인구 중 소득 순서대로 때 가운데 해당 가처분 중위 소득 미만 가구 비율 상대 빈곤 율 은 다시 반대 노인 사회 지지 사회 지지 얼마나 생각 평소 마음 상의 사람 얼마나 생각 문항 점 점수 겨 합산 점수 산출 세 이상 점 만점 점 세 점 세 점 수치 보고서 노인 경우 박탈 수준 사회 지지 수준 전반 사회 배제 수준 임 짐작 고 한편 공과금 미납 전기 전화 수도 요금 미납 단전 단수 등 경험 세 장년 층 로 노년 층 노년 층 성적 소득 빈곤 경험 소비 수준 소득 수준 최대한 억제 반면 장년 층 자녀 양육 주거 비 지불 등 필수 지출 시기 가계 적자 절대 박탈 보고서 진단',\n",
       " '대구 연합뉴스 덕기 기자 한밤 공구 가지 금은 방 옆 건물 침입 벽 여성 경찰 대구 동부 경찰서 씨 지난달 오후 마스크 끼 동구 신암동 금은 방 옆 분식점 침입 미리 준비 해머 망치 톱 등 이용 다음 날 오전 동안 금은 방 통 벽 공구 씨 개인 채무 고민 범행 결심 두 차례 사전 답사 여 년 전 범행 억원 피해 금은 방 주인 벽 철판 설치 사실 경찰 관계자 금은 방 주인 설치 철판 씨 준비 공구 도저히 정도 고 말 경찰 분식점 주인 신고 수사 인근 폐쇄회 포착 용의자 인상 착의 차량 번호 등 추적 열흘 씨 절도 미수 혐의 구속']"
      ]
     },
     "execution_count": 31,
     "metadata": {},
     "output_type": "execute_result"
    }
   ],
   "source": [
    "total_news"
   ]
  },
  {
   "cell_type": "code",
   "execution_count": 32,
   "metadata": {},
   "outputs": [],
   "source": [
    "from sklearn.feature_extraction.text import CountVectorizer"
   ]
  },
  {
   "cell_type": "code",
   "execution_count": 33,
   "metadata": {},
   "outputs": [],
   "source": [
    "kor_vectorizer = CountVectorizer(min_df=1) # 등장하는 단어들에 대한 오브젝트\n",
    "kor_bow = kor_vectorizer.fit_transform(total_news) # 딕셔너리에 실제 단어들을 입력"
   ]
  },
  {
   "cell_type": "code",
   "execution_count": 34,
   "metadata": {},
   "outputs": [
    {
     "name": "stdout",
     "output_type": "stream",
     "text": [
      "  (0, 99)\t5\n",
      "  (0, 312)\t3\n",
      "  (0, 211)\t3\n",
      "  (0, 154)\t2\n",
      "  (0, 216)\t2\n",
      "  (0, 381)\t2\n",
      "  (0, 554)\t2\n",
      "  (0, 418)\t2\n",
      "  (0, 404)\t2\n",
      "  (0, 156)\t2\n",
      "  (0, 337)\t1\n",
      "  (0, 332)\t2\n",
      "  (0, 409)\t1\n",
      "  (0, 87)\t1\n",
      "  (0, 81)\t5\n",
      "  (0, 499)\t2\n",
      "  (0, 127)\t4\n",
      "  (0, 117)\t2\n",
      "  (0, 49)\t4\n",
      "  (0, 429)\t4\n",
      "  (0, 287)\t5\n",
      "  (0, 226)\t1\n",
      "  (0, 283)\t3\n",
      "  (0, 438)\t2\n",
      "  (0, 182)\t2\n",
      "  :\t:\n",
      "  (4, 18)\t1\n",
      "  (4, 479)\t1\n",
      "  (4, 199)\t2\n",
      "  (4, 32)\t1\n",
      "  (4, 476)\t1\n",
      "  (4, 115)\t1\n",
      "  (4, 316)\t1\n",
      "  (4, 526)\t1\n",
      "  (4, 448)\t3\n",
      "  (4, 484)\t2\n",
      "  (4, 239)\t1\n",
      "  (4, 135)\t1\n",
      "  (4, 388)\t1\n",
      "  (4, 520)\t1\n",
      "  (4, 521)\t1\n",
      "  (4, 349)\t1\n",
      "  (4, 391)\t1\n",
      "  (4, 477)\t1\n",
      "  (4, 475)\t1\n",
      "  (4, 195)\t1\n",
      "  (4, 500)\t1\n",
      "  (4, 333)\t1\n",
      "  (4, 427)\t1\n",
      "  (4, 174)\t1\n",
      "  (4, 73)\t1\n"
     ]
    }
   ],
   "source": [
    "print(kor_bow)"
   ]
  },
  {
   "cell_type": "code",
   "execution_count": 35,
   "metadata": {},
   "outputs": [
    {
     "name": "stdout",
     "output_type": "stream",
     "text": [
      "['가계', '가구', '가까이', '가끔', '가능성', '가담', '가량', '가운데', '가입', '가장', '가지', '가처분', '각각', '감독', '감식', '강원랜드', '강조', '개선', '개인', '개정', '거나', '거주', '거취', '건강', '건물', '걷기', '검사', '검찰', '검찰총장', '겨울', '겨울철', '결과', '결심', '결재', '결정', '겸허', '경우', '경제', '경찰', '경찰서', '경험', '계단', '계속', '계절', '계획', '고광훈', '고기', '고려', '고민', '고속도로', '고용', '고위', '곧바로', '공과금', '공구', '공사', '과도', '과일', '과정', '과학', '관계자', '관련', '관리', '교각', '교량', '교사', '교습', '교원단체', '교육활동', '교직', '교직원', '교총', '구간', '구속', '구속영장', '국립', '국민', '국회', '국회의원', '권성동', '규정', '근로자', '금은', '기관', '기대', '기본', '기소', '기자', '기초', '기호식품', '김부', '김재철', '나름', '난방', '남녀', '내부', '노년', '노년기', '노동조합', '노동청', '노무', '노인', '노조', '노출', '논란', '뉴시스', '다른', '다리', '다시', '다음', '단계', '단독', '단수', '단장', '단전', '답사', '당시', '당진', '당초', '당한', '대검', '대구', '대변인', '대부분', '대비', '대상', '대응', '대전', '대중교통', '대처', '대표', '대한', '대해', '덕기', '도로공사', '도저히', '도착', '독립기념관', '돌발상황', '동구', '동부', '동안', '동의', '땅바닥', '때문', '라며', '마무리', '마스크', '마음', '만점', '만족', '만큼', '망치', '매뉴얼', '매립', '면서', '명령', '명중', '모든', '모습', '목욕', '무게', '문단', '문무', '문수사', '문제', '문항', '물리', '물음', '미납', '미래', '미리', '미만', '미보', '미수', '미현', '박탈', '반기', '반대', '반론', '반면', '반영', '발견', '발단', '발생', '발전', '발전기', '발주', '발표', '방식', '방안', '방임', '방침', '배제', '버스', '번호', '벌금', '벌금형', '범죄', '범행', '법원', '법조', '변호사', '보건', '보고', '보고서', '보수', '보험', '보호', '보호자', '복통', '볼트', '부남', '부담', '부모', '부문', '부분', '부장', '부재', '부패', '부품', '분석', '분식점', '분야', '불균형', '불기소', '불량', '불협화음', '비닐봉지', '비록', '비리', '비상', '비율', '비판', '빈곤', '사건', '사고', '사단', '사람', '사실', '사안', '사이', '사전', '사태', '사항', '사형', '사회', '산출', '살얼음', '삼자', '상대', '상대로', '상의', '상처', '상태', '상황', '새벽', '생각', '생선', '생활', '서도', '서울', '선고', '선택', '설명', '설치', '섭취', '성명', '성인', '성적', '세종', '소득', '소비', '수긍', '수도', '수사', '수세식', '수습', '수준', '수치', '순서대로', '시각', '시간', '시공', '시기', '시대', '시사', '시설', '시스템', '시작', '시점', '식생활', '신고', '신암동', '신임', '실어', '실질', '실태', '심사', '심의', '아동', '아동복지법', '아동학대', '아래', '아시아', '아이', '아이스크림', '안과', '안전', '안팎', '앞뒤', '앞서', '앵커', '약식', '양육', '어려움', '억원', '억제', '얼마나', '업체', '에너지', '여력', '여부', '여성', '역시', '연구', '연구원', '연금', '연락', '연령', '연루', '연합', '연합뉴스', '열흘', '염동열', '영양', '영장', '예산', '예산군', '예정', '오전', '오후', '옥탑방', '온수', '외압', '외압부분', '외형', '요금', '용변', '용의자', '용퇴', '우려', '우리나라', '운영', '위반', '위원', '위축', '위치', '위해', '유기', '유무', '유지', '유치원', '육류', '육박', '육중', '응답', '의결', '의뢰', '의료', '의류', '의무', '의사결정', '의안', '의원', '의지', '의혹', '이강일', '이견', '이동', '이번', '이상', '이용', '이재영', '이제', '이처럼', '이후', '인구', '인근', '인도', '인사', '인상', '인정', '일부', '일상', '일제', '일주일', '입장', '자녀', '자로', '자문', '자연', '자유', '작업', '작업중', '잘못', '장년', '장소', '장용진', '재림', '재판', '재희', '저축', '적자', '전교조', '전국', '전기', '전망', '전면', '전문', '전반', '전용', '전체', '전혀', '전화', '절기', '절대', '절도', '절차', '점검', '점수', '점차', '접근', '정기', '정도', '정면', '정식', '정장', '정황', '제공', '제기로', '조사', '조직', '조처', '조치', '주거', '주말', '주요', '주인', '주장', '주택', '준비', '준수', '중심', '중위', '지난달', '지난해', '지도', '지방', '지법', '지불', '지적', '지점', '지지', '지청', '지청장', '지체', '지출', '지하', '진과', '진단', '진위', '진행', '짐작', '징계', '차량', '차례', '착의', '참으로', '채무', '채용', '책임자', '처리', '천안', '철판', '청구', '청년', '청와대', '체포', '체험', '체험학습', '초교', '초등학교', '초생', '촉발', '총장', '최대', '최대한', '최선', '추락', '추적', '출신', '충남', '취업', '취재', '취해', '침입', '커피', '통계청', '통합', '퇴진', '파동', '파문', '파악', '판결', '판단', '판사', '평균', '평소', '평정', '폐쇄회', '포착', '폭풍', '표명', '풀이', '피고인', '피해', '피해자', '필수', '필요', '하부', '학교', '학부모', '학생', '학원', '한국', '한밤', '한번', '한편', '합산', '해당', '해머', '해명', '해석', '해직', '현상', '현장', '현직', '혐의', '형사', '호소', '혼자', '홍문종', '화장실', '확인', '확정', '환경', '활동', '회의', '휴게소']\n",
      "(5, 560)\n",
      "[[0 0 0 ... 0 0 0]\n",
      " [0 0 0 ... 0 2 0]\n",
      " [0 0 0 ... 1 0 5]\n",
      " [1 1 1 ... 0 0 0]\n",
      " [0 0 0 ... 0 0 0]]\n"
     ]
    }
   ],
   "source": [
    "print(kor_vectorizer.get_feature_names())\n",
    "# bag-of-words\n",
    "print(kor_bow.shape)\n",
    "print(kor_bow.toarray())"
   ]
  },
  {
   "cell_type": "code",
   "execution_count": 36,
   "metadata": {},
   "outputs": [],
   "source": [
    "from sklearn.feature_extraction.text import TfidfTransformer\n",
    "\n",
    "transformer = TfidfTransformer() # tfidf 변환 인스턴스 생성\n",
    "tfidf = transformer.fit_transform(kor_bow.toarray())"
   ]
  },
  {
   "cell_type": "code",
   "execution_count": 37,
   "metadata": {},
   "outputs": [
    {
     "data": {
      "text/plain": [
       "array([[0.        , 0.        , 0.        , ..., 0.        , 0.        ,\n",
       "        0.        ],\n",
       "       [0.        , 0.        , 0.        , ..., 0.        , 0.0908296 ,\n",
       "        0.        ],\n",
       "       [0.        , 0.        , 0.        , ..., 0.04547102, 0.        ,\n",
       "        0.22735508],\n",
       "       [0.03638138, 0.03638138, 0.03638138, ..., 0.        , 0.        ,\n",
       "        0.        ],\n",
       "       [0.        , 0.        , 0.        , ..., 0.        , 0.        ,\n",
       "        0.        ]])"
      ]
     },
     "execution_count": 37,
     "metadata": {},
     "output_type": "execute_result"
    }
   ],
   "source": [
    "tfidf.toarray()"
   ]
  },
  {
   "cell_type": "markdown",
   "metadata": {},
   "source": [
    "# SVD 분해"
   ]
  },
  {
   "cell_type": "code",
   "execution_count": 38,
   "metadata": {},
   "outputs": [
    {
     "name": "stderr",
     "output_type": "stream",
     "text": [
      "C:\\Users\\Woojin\\anaconda3\\lib\\site-packages\\sklearn\\utils\\deprecation.py:87: FutureWarning: Function sparse_random_matrix is deprecated; gaussian_random_matrix is deprecated in 0.22 and will be removed in version 0.24.\n",
      "  warnings.warn(msg, category=FutureWarning)\n"
     ]
    },
    {
     "data": {
      "text/plain": [
       "TruncatedSVD(algorithm='randomized', n_components=5, n_iter=7, random_state=42,\n",
       "             tol=0.0)"
      ]
     },
     "execution_count": 38,
     "metadata": {},
     "output_type": "execute_result"
    }
   ],
   "source": [
    "from sklearn.decomposition import TruncatedSVD\n",
    "from sklearn.random_projection import sparse_random_matrix\n",
    "X = sparse_random_matrix(100, 100, density=0.01, random_state=42)\n",
    "svd = TruncatedSVD(n_components=5, n_iter=7, random_state=42)\n",
    "svd.fit(X)  \n",
    "TruncatedSVD(algorithm='randomized', n_components=5, n_iter=7,\n",
    "        random_state=42, tol=0.0)"
   ]
  },
  {
   "cell_type": "code",
   "execution_count": 39,
   "metadata": {},
   "outputs": [
    {
     "name": "stdout",
     "output_type": "stream",
     "text": [
      "[0.06063696 0.05842599 0.04970872 0.04344233 0.03723615]\n"
     ]
    }
   ],
   "source": [
    "print(svd.explained_variance_ratio_)  "
   ]
  },
  {
   "cell_type": "code",
   "execution_count": 40,
   "metadata": {},
   "outputs": [
    {
     "name": "stdout",
     "output_type": "stream",
     "text": [
      "0.24945013828489526\n"
     ]
    }
   ],
   "source": [
    "print(svd.explained_variance_ratio_.sum()) "
   ]
  },
  {
   "cell_type": "code",
   "execution_count": 41,
   "metadata": {},
   "outputs": [
    {
     "name": "stdout",
     "output_type": "stream",
     "text": [
      "[2.58418571 2.52453902 2.32011672 2.17531753 2.04439905]\n"
     ]
    }
   ],
   "source": [
    "print(svd.singular_values_)"
   ]
  },
  {
   "cell_type": "markdown",
   "metadata": {},
   "source": [
    "# LSA - GENSIM"
   ]
  },
  {
   "cell_type": "code",
   "execution_count": 43,
   "metadata": {},
   "outputs": [],
   "source": [
    "from gensim.test.utils import common_dictionary, common_corpus\n",
    "from gensim.models import LsiModel\n",
    "\n",
    "model = LsiModel(common_corpus, id2word=common_dictionary)\n",
    "vectorized_corpus = model[common_corpus]"
   ]
  },
  {
   "cell_type": "code",
   "execution_count": 44,
   "metadata": {},
   "outputs": [
    {
     "data": {
      "text/plain": [
       "[[(0, 1), (1, 1), (2, 1)],\n",
       " [(0, 1), (3, 1), (4, 1), (5, 1), (6, 1), (7, 1)],\n",
       " [(2, 1), (5, 1), (7, 1), (8, 1)],\n",
       " [(1, 1), (5, 2), (8, 1)],\n",
       " [(3, 1), (6, 1), (7, 1)],\n",
       " [(9, 1)],\n",
       " [(9, 1), (10, 1)],\n",
       " [(9, 1), (10, 1), (11, 1)],\n",
       " [(4, 1), (10, 1), (11, 1)]]"
      ]
     },
     "execution_count": 44,
     "metadata": {},
     "output_type": "execute_result"
    }
   ],
   "source": [
    "vectorized_corpus.corpus"
   ]
  },
  {
   "cell_type": "code",
   "execution_count": null,
   "metadata": {},
   "outputs": [],
   "source": []
  }
 ],
 "metadata": {
  "kernelspec": {
   "display_name": "Python 3",
   "language": "python",
   "name": "python3"
  },
  "language_info": {
   "codemirror_mode": {
    "name": "ipython",
    "version": 3
   },
   "file_extension": ".py",
   "mimetype": "text/x-python",
   "name": "python",
   "nbconvert_exporter": "python",
   "pygments_lexer": "ipython3",
   "version": "3.7.6"
  }
 },
 "nbformat": 4,
 "nbformat_minor": 4
}

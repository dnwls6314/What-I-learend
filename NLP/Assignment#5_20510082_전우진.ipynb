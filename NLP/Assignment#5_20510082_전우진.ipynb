{
 "cells": [
  {
   "cell_type": "markdown",
   "metadata": {},
   "source": [
    "# LDA"
   ]
  },
  {
   "cell_type": "code",
   "execution_count": 2,
   "metadata": {},
   "outputs": [
    {
     "name": "stderr",
     "output_type": "stream",
     "text": [
      "[nltk_data] Downloading package reuters to\n",
      "[nltk_data]     C:\\Users\\Woojin\\AppData\\Roaming\\nltk_data...\n"
     ]
    }
   ],
   "source": [
    "import nltk\n",
    "nltk.download('reuters')\n",
    "from nltk.corpus import reuters\n",
    "docs_en = [reuters.words(i) for i in reuters.fileids()]"
   ]
  },
  {
   "cell_type": "code",
   "execution_count": 3,
   "metadata": {},
   "outputs": [
    {
     "name": "stdout",
     "output_type": "stream",
     "text": [
      "['ASIAN', 'EXPORTERS', 'FEAR', 'DAMAGE', 'FROM', 'U', ...]\n"
     ]
    }
   ],
   "source": [
    "texts_en = docs_en \n",
    "print(texts_en[0])"
   ]
  },
  {
   "cell_type": "code",
   "execution_count": 4,
   "metadata": {},
   "outputs": [],
   "source": [
    "from gensim import corpora\n",
    "dictionary_en = corpora.Dictionary(texts_en)\n",
    "dictionary_en.save('en.dict')"
   ]
  },
  {
   "cell_type": "code",
   "execution_count": 5,
   "metadata": {},
   "outputs": [
    {
     "name": "stdout",
     "output_type": "stream",
     "text": [
      "[(0, 7), (1, 3), (2, 13), (3, 2), (4, 1), (5, 1), (6, 20), (7, 6), (8, 10), (9, 62)]\n",
      "[(9, 62), (363, 32), (276, 30), (371, 26), (6, 20), (96, 19), (112, 19), (326, 16), (118, 14), (2, 13)]\n",
      ".\n"
     ]
    }
   ],
   "source": [
    "from gensim import models\n",
    "tf_en = [dictionary_en.doc2bow(text) for text in texts_en]\n",
    "tfidf_model_en = models.TfidfModel(tf_en)\n",
    "tfidf_en = tfidf_model_en[tf_en]\n",
    "corpora.MmCorpus.serialize('en.mm', tfidf_en) # save corpus to file for future use\n",
    "\n",
    "# print first 10 elements of first document's tf-idf vector\n",
    "print(tfidf_en.corpus[0][:10])\n",
    "# print top 10 elements of first document's tf-idf vector\n",
    "print(sorted(tfidf_en.corpus[0], key=lambda x: x[1], reverse=True)[:10])\n",
    "# print token of most frequent element\n",
    "print(dictionary_en.get(9))"
   ]
  },
  {
   "cell_type": "code",
   "execution_count": 6,
   "metadata": {},
   "outputs": [
    {
     "name": "stdout",
     "output_type": "stream",
     "text": [
      "[(0, '0.005*\"the\" + 0.003*\"pct\" + 0.003*\"to\" + 0.003*\"in\" + 0.003*\"of\"'), (1, '0.005*\"cts\" + 0.005*\"Record\" + 0.005*\"div\" + 0.005*\"Pay\" + 0.004*\"Qtly\"'), (2, '0.010*\"vs\" + 0.006*\"000\" + 0.006*\"mln\" + 0.005*\"loss\" + 0.005*\"cts\"')]\n"
     ]
    }
   ],
   "source": [
    "ntopics, nwords = 3, 5\n",
    "\n",
    "import numpy as np; np.random.seed(42)  # optional\n",
    "lda_en = models.ldamodel.LdaModel(tfidf_en, id2word=dictionary_en, num_topics=ntopics)\n",
    "print(lda_en.print_topics(num_topics=ntopics, num_words=nwords))"
   ]
  },
  {
   "cell_type": "code",
   "execution_count": 7,
   "metadata": {},
   "outputs": [
    {
     "data": {
      "text/plain": [
       "[(2, 0.80033845), (0, 0.17921048), (1, 0.020451073)]"
      ]
     },
     "execution_count": 7,
     "metadata": {},
     "output_type": "execute_result"
    }
   ],
   "source": [
    "bow = tfidf_model_en[dictionary_en.doc2bow(texts_en[0])]\n",
    "sorted(lda_en[bow], key=lambda x: x[1], reverse=True)"
   ]
  },
  {
   "cell_type": "code",
   "execution_count": 8,
   "metadata": {},
   "outputs": [
    {
     "data": {
      "text/plain": [
       "[(0, 0.7393256), (2, 0.21643703), (1, 0.044237357)]"
      ]
     },
     "execution_count": 8,
     "metadata": {},
     "output_type": "execute_result"
    }
   ],
   "source": [
    "bow = tfidf_model_en[dictionary_en.doc2bow(texts_en[1])]\n",
    "sorted(lda_en[bow], key=lambda x: x[1], reverse=True)"
   ]
  },
  {
   "cell_type": "code",
   "execution_count": null,
   "metadata": {},
   "outputs": [],
   "source": []
  }
 ],
 "metadata": {
  "kernelspec": {
   "display_name": "Python 3",
   "language": "python",
   "name": "python3"
  },
  "language_info": {
   "codemirror_mode": {
    "name": "ipython",
    "version": 3
   },
   "file_extension": ".py",
   "mimetype": "text/x-python",
   "name": "python",
   "nbconvert_exporter": "python",
   "pygments_lexer": "ipython3",
   "version": "3.7.6"
  }
 },
 "nbformat": 4,
 "nbformat_minor": 4
}

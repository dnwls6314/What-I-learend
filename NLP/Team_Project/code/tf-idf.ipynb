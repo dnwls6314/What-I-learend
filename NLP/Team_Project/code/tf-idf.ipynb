{
 "cells": [
  {
   "cell_type": "code",
   "execution_count": 2,
   "metadata": {},
   "outputs": [],
   "source": [
    "import re\n",
    "from konlpy.tag import Hannanum\n",
    "from pprint import pprint\n",
    "import nltk\n",
    "import pandas as pd\n",
    "from sklearn.feature_extraction.text import TfidfVectorizer\n",
    "from collections import defaultdict"
   ]
  },
  {
   "cell_type": "code",
   "execution_count": 3,
   "metadata": {},
   "outputs": [],
   "source": [
    "data_glam = pd.read_excel(\"./data/글램.xlsx\")\n",
    "data_dang = pd.read_excel(\"./data/당연시.xlsx\")\n",
    "data_sim = pd.read_excel(\"./data/심쿵.xlsx\")\n",
    "data_amanda = pd.read_excel(\"./data/아만다.xlsx\")\n",
    "data_wipi = pd.read_excel(\"./data/위피.xlsx\")\n",
    "data_noon = pd.read_excel(\"./data/정오의데이트.xlsx\")"
   ]
  },
  {
   "cell_type": "code",
   "execution_count": 4,
   "metadata": {},
   "outputs": [
    {
     "data": {
      "text/html": [
       "<div>\n",
       "<style scoped>\n",
       "    .dataframe tbody tr th:only-of-type {\n",
       "        vertical-align: middle;\n",
       "    }\n",
       "\n",
       "    .dataframe tbody tr th {\n",
       "        vertical-align: top;\n",
       "    }\n",
       "\n",
       "    .dataframe thead th {\n",
       "        text-align: right;\n",
       "    }\n",
       "</style>\n",
       "<table border=\"1\" class=\"dataframe\">\n",
       "  <thead>\n",
       "    <tr style=\"text-align: right;\">\n",
       "      <th></th>\n",
       "      <th>DATE</th>\n",
       "      <th>STAR</th>\n",
       "      <th>REVIEW</th>\n",
       "    </tr>\n",
       "  </thead>\n",
       "  <tbody>\n",
       "    <tr>\n",
       "      <th>0</th>\n",
       "      <td>2020년 11월 2일</td>\n",
       "      <td>별표 5개 만점에 4개를 받았습니다.</td>\n",
       "      <td>글램 2년전에 깔았을때는 젬을 무료로 꾸준히 얻을수가 있었다. 그래서 부족하지만 긴...</td>\n",
       "    </tr>\n",
       "    <tr>\n",
       "      <th>1</th>\n",
       "      <td>2020년 11월 1일</td>\n",
       "      <td>별표 5개 만점에 1개를 받았습니다.</td>\n",
       "      <td>와 나 정말 이런거 안남기는데 돈써서 결제해서 매칭되면 하나같이 레파토리가똑같다 \"...</td>\n",
       "    </tr>\n",
       "    <tr>\n",
       "      <th>2</th>\n",
       "      <td>2020년 11월 0일</td>\n",
       "      <td>별표 5개 만점에 5개를 받았습니다.</td>\n",
       "      <td>유투브에서 하도 광고틀길래 깔아서 써봤습니다. 솔직하게 다른 곳 보다 과금이 적긴합...</td>\n",
       "    </tr>\n",
       "    <tr>\n",
       "      <th>3</th>\n",
       "      <td>2020년 11월 1일</td>\n",
       "      <td>별표 5개 만점에 5개를 받았습니다.</td>\n",
       "      <td>추천 알고리즘이 훌륭합니다. 다만, 제 경험으로는 연결후 대화가 없는 경우가 열에 ...</td>\n",
       "    </tr>\n",
       "    <tr>\n",
       "      <th>4</th>\n",
       "      <td>2020년 11월 2일</td>\n",
       "      <td>별표 5개 만점에 1개를 받았습니다.</td>\n",
       "      <td>1년전 무료로 이용했을땐 너무 잘 이용 하고있었습니다 그래서 그전에 도움 받은것도있...</td>\n",
       "    </tr>\n",
       "  </tbody>\n",
       "</table>\n",
       "</div>"
      ],
      "text/plain": [
       "           DATE                  STAR  \\\n",
       "0  2020년 11월 2일  별표 5개 만점에 4개를 받았습니다.   \n",
       "1  2020년 11월 1일  별표 5개 만점에 1개를 받았습니다.   \n",
       "2  2020년 11월 0일  별표 5개 만점에 5개를 받았습니다.   \n",
       "3  2020년 11월 1일  별표 5개 만점에 5개를 받았습니다.   \n",
       "4  2020년 11월 2일  별표 5개 만점에 1개를 받았습니다.   \n",
       "\n",
       "                                              REVIEW  \n",
       "0  글램 2년전에 깔았을때는 젬을 무료로 꾸준히 얻을수가 있었다. 그래서 부족하지만 긴...  \n",
       "1  와 나 정말 이런거 안남기는데 돈써서 결제해서 매칭되면 하나같이 레파토리가똑같다 \"...  \n",
       "2  유투브에서 하도 광고틀길래 깔아서 써봤습니다. 솔직하게 다른 곳 보다 과금이 적긴합...  \n",
       "3  추천 알고리즘이 훌륭합니다. 다만, 제 경험으로는 연결후 대화가 없는 경우가 열에 ...  \n",
       "4  1년전 무료로 이용했을땐 너무 잘 이용 하고있었습니다 그래서 그전에 도움 받은것도있...  "
      ]
     },
     "execution_count": 4,
     "metadata": {},
     "output_type": "execute_result"
    }
   ],
   "source": [
    "data_glam.head()"
   ]
  },
  {
   "cell_type": "code",
   "execution_count": 10,
   "metadata": {
    "scrolled": true
   },
   "outputs": [
    {
     "name": "stdout",
     "output_type": "stream",
     "text": [
      "글램: 24431\n",
      "당연시: 19973\n",
      "심쿵: 30312\n",
      "아만다: 17754\n",
      "위피: 13183\n",
      "정오의 데이트: 34287\n"
     ]
    }
   ],
   "source": [
    "print(\"글램:\",len(data_glam))\n",
    "print(\"당연시:\",len(data_dang))\n",
    "print(\"심쿵:\",len(data_sim))\n",
    "print(\"아만다:\",len(data_amanda))\n",
    "print(\"위피:\",len(data_wipi))\n",
    "print(\"정오의 데이트:\",len(data_noon))"
   ]
  },
  {
   "cell_type": "code",
   "execution_count": 11,
   "metadata": {},
   "outputs": [],
   "source": [
    "## 글램+위피 up/ 나머지down"
   ]
  },
  {
   "cell_type": "code",
   "execution_count": 21,
   "metadata": {},
   "outputs": [
    {
     "data": {
      "text/plain": [
       "43495"
      ]
     },
     "execution_count": 21,
     "metadata": {},
     "output_type": "execute_result"
    }
   ],
   "source": [
    "data_up = pd.concat([data_sim, data_wipi])\n",
    "len(data_up)"
   ]
  },
  {
   "cell_type": "code",
   "execution_count": 22,
   "metadata": {},
   "outputs": [
    {
     "data": {
      "text/plain": [
       "96445"
      ]
     },
     "execution_count": 22,
     "metadata": {},
     "output_type": "execute_result"
    }
   ],
   "source": [
    "data_down = pd.concat([data_glam, data_dang,data_amanda,data_noon])\n",
    "len(data_down)"
   ]
  },
  {
   "cell_type": "code",
   "execution_count": 63,
   "metadata": {},
   "outputs": [],
   "source": [
    "data_up.to_excel('글램+위피.xlsx')\n",
    "data_down.to_excel('심쿵+당연시+아만다+정오.xlsx')"
   ]
  },
  {
   "cell_type": "markdown",
   "metadata": {},
   "source": [
    "### 다시"
   ]
  },
  {
   "cell_type": "code",
   "execution_count": 100,
   "metadata": {},
   "outputs": [],
   "source": [
    "data_up = pd.read_excel(\"./data/글램+위피.xlsx\")\n",
    "data_down = pd.read_excel(\"./data/심쿵+당연시+아만다+정오.xlsx\")"
   ]
  },
  {
   "cell_type": "code",
   "execution_count": 101,
   "metadata": {},
   "outputs": [
    {
     "name": "stdout",
     "output_type": "stream",
     "text": [
      "39349\n",
      "85079\n"
     ]
    }
   ],
   "source": [
    "print(len(data_up))\n",
    "print(len(data_down))"
   ]
  },
  {
   "cell_type": "code",
   "execution_count": 102,
   "metadata": {},
   "outputs": [],
   "source": [
    "del data_up['Unnamed: 0']\n",
    "del data_down['Unnamed: 0']"
   ]
  },
  {
   "cell_type": "code",
   "execution_count": 103,
   "metadata": {},
   "outputs": [
    {
     "data": {
      "text/html": [
       "<div>\n",
       "<style scoped>\n",
       "    .dataframe tbody tr th:only-of-type {\n",
       "        vertical-align: middle;\n",
       "    }\n",
       "\n",
       "    .dataframe tbody tr th {\n",
       "        vertical-align: top;\n",
       "    }\n",
       "\n",
       "    .dataframe thead th {\n",
       "        text-align: right;\n",
       "    }\n",
       "</style>\n",
       "<table border=\"1\" class=\"dataframe\">\n",
       "  <thead>\n",
       "    <tr style=\"text-align: right;\">\n",
       "      <th></th>\n",
       "      <th>DATE</th>\n",
       "      <th>STAR</th>\n",
       "      <th>REVIEW</th>\n",
       "    </tr>\n",
       "  </thead>\n",
       "  <tbody>\n",
       "    <tr>\n",
       "      <th>0</th>\n",
       "      <td>2020년 10월 30일</td>\n",
       "      <td>1</td>\n",
       "      <td>좋아요 따로, 하트 따로... 솔직히 말씀드려서 돈벌려고 만든 앱 그 이상도 이하도...</td>\n",
       "    </tr>\n",
       "    <tr>\n",
       "      <th>1</th>\n",
       "      <td>2020년 10월 14일</td>\n",
       "      <td>1</td>\n",
       "      <td>이앱 절대 하지마세요 모든것이 하트구매해야 프로필도 볼수있고 다 돈과연결되어있습니다...</td>\n",
       "    </tr>\n",
       "    <tr>\n",
       "      <th>2</th>\n",
       "      <td>2020년 10월 18일</td>\n",
       "      <td>1</td>\n",
       "      <td>ㅋㅋㅋㅋㅋㅋㅋ 현질했는데도 매칭 안됌 내가 못생긴 것도 아닌데 이것도 중국식 가짜앱...</td>\n",
       "    </tr>\n",
       "    <tr>\n",
       "      <th>3</th>\n",
       "      <td>2020년 10월 14일</td>\n",
       "      <td>1</td>\n",
       "      <td>제 주관적인 평가입니다 우선 매칭이 심플한 점이 장점이라고 생각합니다. 하지만 매칭...</td>\n",
       "    </tr>\n",
       "    <tr>\n",
       "      <th>4</th>\n",
       "      <td>2020년 7월 5일</td>\n",
       "      <td>3</td>\n",
       "      <td>다른앱을 쓰다 이 앱을 알게되어 일주일째 쓰고 있는데 아쉬운점이 있어 글남깁니다. ...</td>\n",
       "    </tr>\n",
       "  </tbody>\n",
       "</table>\n",
       "</div>"
      ],
      "text/plain": [
       "            DATE  STAR                                             REVIEW\n",
       "0  2020년 10월 30일     1  좋아요 따로, 하트 따로... 솔직히 말씀드려서 돈벌려고 만든 앱 그 이상도 이하도...\n",
       "1  2020년 10월 14일     1  이앱 절대 하지마세요 모든것이 하트구매해야 프로필도 볼수있고 다 돈과연결되어있습니다...\n",
       "2  2020년 10월 18일     1  ㅋㅋㅋㅋㅋㅋㅋ 현질했는데도 매칭 안됌 내가 못생긴 것도 아닌데 이것도 중국식 가짜앱...\n",
       "3  2020년 10월 14일     1  제 주관적인 평가입니다 우선 매칭이 심플한 점이 장점이라고 생각합니다. 하지만 매칭...\n",
       "4    2020년 7월 5일     3  다른앱을 쓰다 이 앱을 알게되어 일주일째 쓰고 있는데 아쉬운점이 있어 글남깁니다. ..."
      ]
     },
     "execution_count": 103,
     "metadata": {},
     "output_type": "execute_result"
    }
   ],
   "source": [
    "data_up.head()"
   ]
  },
  {
   "cell_type": "code",
   "execution_count": 104,
   "metadata": {},
   "outputs": [],
   "source": [
    "data_up['DATE']=data_up['DATE'].str.replace('년','')\n",
    "data_up['DATE']=data_up['DATE'].str.replace('월','')\n",
    "data_up['DATE']=data_up['DATE'].str.replace('일','')\n",
    "data_up['DATE']=data_up['DATE'].str.replace(\" \",'')\n",
    "data_down['DATE']=data_down['DATE'].str.replace('년','')\n",
    "data_down['DATE']=data_down['DATE'].str.replace('월','')\n",
    "data_down['DATE']=data_down['DATE'].str.replace('일','')\n",
    "data_down['DATE']=data_down['DATE'].str.replace(\" \",'')"
   ]
  },
  {
   "cell_type": "code",
   "execution_count": 105,
   "metadata": {},
   "outputs": [
    {
     "data": {
      "text/html": [
       "<div>\n",
       "<style scoped>\n",
       "    .dataframe tbody tr th:only-of-type {\n",
       "        vertical-align: middle;\n",
       "    }\n",
       "\n",
       "    .dataframe tbody tr th {\n",
       "        vertical-align: top;\n",
       "    }\n",
       "\n",
       "    .dataframe thead th {\n",
       "        text-align: right;\n",
       "    }\n",
       "</style>\n",
       "<table border=\"1\" class=\"dataframe\">\n",
       "  <thead>\n",
       "    <tr style=\"text-align: right;\">\n",
       "      <th></th>\n",
       "      <th>DATE</th>\n",
       "      <th>STAR</th>\n",
       "      <th>REVIEW</th>\n",
       "    </tr>\n",
       "  </thead>\n",
       "  <tbody>\n",
       "    <tr>\n",
       "      <th>0</th>\n",
       "      <td>20201030</td>\n",
       "      <td>1</td>\n",
       "      <td>좋아요 따로, 하트 따로... 솔직히 말씀드려서 돈벌려고 만든 앱 그 이상도 이하도...</td>\n",
       "    </tr>\n",
       "    <tr>\n",
       "      <th>1</th>\n",
       "      <td>20201014</td>\n",
       "      <td>1</td>\n",
       "      <td>이앱 절대 하지마세요 모든것이 하트구매해야 프로필도 볼수있고 다 돈과연결되어있습니다...</td>\n",
       "    </tr>\n",
       "  </tbody>\n",
       "</table>\n",
       "</div>"
      ],
      "text/plain": [
       "       DATE  STAR                                             REVIEW\n",
       "0  20201030     1  좋아요 따로, 하트 따로... 솔직히 말씀드려서 돈벌려고 만든 앱 그 이상도 이하도...\n",
       "1  20201014     1  이앱 절대 하지마세요 모든것이 하트구매해야 프로필도 볼수있고 다 돈과연결되어있습니다..."
      ]
     },
     "execution_count": 105,
     "metadata": {},
     "output_type": "execute_result"
    }
   ],
   "source": [
    "data_up.head(2)"
   ]
  },
  {
   "cell_type": "code",
   "execution_count": 106,
   "metadata": {},
   "outputs": [],
   "source": [
    "data_up['DATE']=pd.to_numeric(data_up['DATE'])\n",
    "data_down['DATE']=pd.to_numeric(data_down['DATE'])"
   ]
  },
  {
   "cell_type": "code",
   "execution_count": 107,
   "metadata": {
    "scrolled": true
   },
   "outputs": [],
   "source": [
    "data_up_1 = data_up['DATE'] <= 20181231\n",
    "data_up_2 = data_up['DATE'] >= 20190101"
   ]
  },
  {
   "cell_type": "code",
   "execution_count": 108,
   "metadata": {},
   "outputs": [],
   "source": [
    "data_up_1 = data_up[data_up_1]\n",
    "data_up_2 = data_up[data_up_2]"
   ]
  },
  {
   "cell_type": "code",
   "execution_count": 109,
   "metadata": {},
   "outputs": [
    {
     "data": {
      "text/html": [
       "<div>\n",
       "<style scoped>\n",
       "    .dataframe tbody tr th:only-of-type {\n",
       "        vertical-align: middle;\n",
       "    }\n",
       "\n",
       "    .dataframe tbody tr th {\n",
       "        vertical-align: top;\n",
       "    }\n",
       "\n",
       "    .dataframe thead th {\n",
       "        text-align: right;\n",
       "    }\n",
       "</style>\n",
       "<table border=\"1\" class=\"dataframe\">\n",
       "  <thead>\n",
       "    <tr style=\"text-align: right;\">\n",
       "      <th></th>\n",
       "      <th>DATE</th>\n",
       "      <th>STAR</th>\n",
       "      <th>REVIEW</th>\n",
       "    </tr>\n",
       "  </thead>\n",
       "  <tbody>\n",
       "    <tr>\n",
       "      <th>4</th>\n",
       "      <td>202075</td>\n",
       "      <td>3</td>\n",
       "      <td>다른앱을 쓰다 이 앱을 알게되어 일주일째 쓰고 있는데 아쉬운점이 있어 글남깁니다. ...</td>\n",
       "    </tr>\n",
       "    <tr>\n",
       "      <th>5</th>\n",
       "      <td>2020831</td>\n",
       "      <td>1</td>\n",
       "      <td>오늘 개빡쳐서 별점 1개로 수정하고 장문의 사유서 쓰겠습니다. 1. 남자 중년 아재...</td>\n",
       "    </tr>\n",
       "    <tr>\n",
       "      <th>6</th>\n",
       "      <td>202097</td>\n",
       "      <td>1</td>\n",
       "      <td>이 어플 ㅈ되는 어플이네요 결제했더니 하트 안들어와서 문의했드만 결제확인이 안된다는...</td>\n",
       "    </tr>\n",
       "    <tr>\n",
       "      <th>7</th>\n",
       "      <td>2020925</td>\n",
       "      <td>1</td>\n",
       "      <td>밑에 알바들에게 속지 마세요 진짜 X같네요 제가 왠만해서 이런거 절대 안올리는데 이...</td>\n",
       "    </tr>\n",
       "    <tr>\n",
       "      <th>8</th>\n",
       "      <td>2020630</td>\n",
       "      <td>5</td>\n",
       "      <td>가슴이 웅장해집니다. 남녀 다 취급하는 포주 수준. 유저 경험과 회사 이익의 절충선...</td>\n",
       "    </tr>\n",
       "    <tr>\n",
       "      <th>...</th>\n",
       "      <td>...</td>\n",
       "      <td>...</td>\n",
       "      <td>...</td>\n",
       "    </tr>\n",
       "    <tr>\n",
       "      <th>39344</th>\n",
       "      <td>2019311</td>\n",
       "      <td>4</td>\n",
       "      <td>좋아요</td>\n",
       "    </tr>\n",
       "    <tr>\n",
       "      <th>39345</th>\n",
       "      <td>2019114</td>\n",
       "      <td>5</td>\n",
       "      <td>좋아요</td>\n",
       "    </tr>\n",
       "    <tr>\n",
       "      <th>39346</th>\n",
       "      <td>201929</td>\n",
       "      <td>4</td>\n",
       "      <td>좋네요</td>\n",
       "    </tr>\n",
       "    <tr>\n",
       "      <th>39347</th>\n",
       "      <td>2019212</td>\n",
       "      <td>4</td>\n",
       "      <td>좋아요</td>\n",
       "    </tr>\n",
       "    <tr>\n",
       "      <th>39348</th>\n",
       "      <td>2020830</td>\n",
       "      <td>3</td>\n",
       "      <td>좋아요</td>\n",
       "    </tr>\n",
       "  </tbody>\n",
       "</table>\n",
       "<p>36286 rows × 3 columns</p>\n",
       "</div>"
      ],
      "text/plain": [
       "          DATE  STAR                                             REVIEW\n",
       "4       202075     3  다른앱을 쓰다 이 앱을 알게되어 일주일째 쓰고 있는데 아쉬운점이 있어 글남깁니다. ...\n",
       "5      2020831     1  오늘 개빡쳐서 별점 1개로 수정하고 장문의 사유서 쓰겠습니다. 1. 남자 중년 아재...\n",
       "6       202097     1  이 어플 ㅈ되는 어플이네요 결제했더니 하트 안들어와서 문의했드만 결제확인이 안된다는...\n",
       "7      2020925     1  밑에 알바들에게 속지 마세요 진짜 X같네요 제가 왠만해서 이런거 절대 안올리는데 이...\n",
       "8      2020630     5  가슴이 웅장해집니다. 남녀 다 취급하는 포주 수준. 유저 경험과 회사 이익의 절충선...\n",
       "...        ...   ...                                                ...\n",
       "39344  2019311     4                                                좋아요\n",
       "39345  2019114     5                                                좋아요\n",
       "39346   201929     4                                                좋네요\n",
       "39347  2019212     4                                                좋아요\n",
       "39348  2020830     3                                                좋아요\n",
       "\n",
       "[36286 rows x 3 columns]"
      ]
     },
     "execution_count": 109,
     "metadata": {},
     "output_type": "execute_result"
    }
   ],
   "source": [
    "data_up_1"
   ]
  },
  {
   "cell_type": "code",
   "execution_count": 110,
   "metadata": {},
   "outputs": [],
   "source": [
    "data_down_1 = data_down['DATE'] <= 20181231\n",
    "data_down_2 = data_down['DATE'] >= 20190101\n",
    "data_down_1 = data_down[data_down_1]\n",
    "data_down_2 = data_down[data_down_2]"
   ]
  },
  {
   "cell_type": "code",
   "execution_count": 111,
   "metadata": {},
   "outputs": [
    {
     "data": {
      "text/html": [
       "<div>\n",
       "<style scoped>\n",
       "    .dataframe tbody tr th:only-of-type {\n",
       "        vertical-align: middle;\n",
       "    }\n",
       "\n",
       "    .dataframe tbody tr th {\n",
       "        vertical-align: top;\n",
       "    }\n",
       "\n",
       "    .dataframe thead th {\n",
       "        text-align: right;\n",
       "    }\n",
       "</style>\n",
       "<table border=\"1\" class=\"dataframe\">\n",
       "  <thead>\n",
       "    <tr style=\"text-align: right;\">\n",
       "      <th></th>\n",
       "      <th>DATE</th>\n",
       "      <th>STAR</th>\n",
       "      <th>REVIEW</th>\n",
       "    </tr>\n",
       "  </thead>\n",
       "  <tbody>\n",
       "    <tr>\n",
       "      <th>1</th>\n",
       "      <td>20201021</td>\n",
       "      <td>3</td>\n",
       "      <td>다른앱보다 괜찮은데 지금 문제가 심각한게 허위프로필로 사기치려는 계정이 심각하게 늘...</td>\n",
       "    </tr>\n",
       "    <tr>\n",
       "      <th>2</th>\n",
       "      <td>20201020</td>\n",
       "      <td>3</td>\n",
       "      <td>무료로 사용할 수 있다는 점이 굉장히 좋구요. 최근 업데이트를 해서인지 높은 평가해...</td>\n",
       "    </tr>\n",
       "    <tr>\n",
       "      <th>4</th>\n",
       "      <td>20201031</td>\n",
       "      <td>1</td>\n",
       "      <td>안녕하세요 몇몇 어플써본사람 입니다 확실히 타 어플들에 비해 결제요구 가 덜한느낌도...</td>\n",
       "    </tr>\n",
       "    <tr>\n",
       "      <th>6</th>\n",
       "      <td>20201015</td>\n",
       "      <td>5</td>\n",
       "      <td>다른 소개팅 어플 다 써봤어요. 다 지우고 이거 하나 남았습니다. 연결이 자주 되진...</td>\n",
       "    </tr>\n",
       "    <tr>\n",
       "      <th>7</th>\n",
       "      <td>20201016</td>\n",
       "      <td>5</td>\n",
       "      <td>글램은 제가 사용해본 어플중에 최고의 어플입니다. 수많은 다른어플들은 매칭도 서울 ...</td>\n",
       "    </tr>\n",
       "    <tr>\n",
       "      <th>...</th>\n",
       "      <td>...</td>\n",
       "      <td>...</td>\n",
       "      <td>...</td>\n",
       "    </tr>\n",
       "    <tr>\n",
       "      <th>82813</th>\n",
       "      <td>20191010</td>\n",
       "      <td>5</td>\n",
       "      <td>긍정적</td>\n",
       "    </tr>\n",
       "    <tr>\n",
       "      <th>82815</th>\n",
       "      <td>20191011</td>\n",
       "      <td>5</td>\n",
       "      <td>좋아요</td>\n",
       "    </tr>\n",
       "    <tr>\n",
       "      <th>82819</th>\n",
       "      <td>20191014</td>\n",
       "      <td>4</td>\n",
       "      <td>아아아</td>\n",
       "    </tr>\n",
       "    <tr>\n",
       "      <th>82821</th>\n",
       "      <td>20191013</td>\n",
       "      <td>5</td>\n",
       "      <td>좋아여</td>\n",
       "    </tr>\n",
       "    <tr>\n",
       "      <th>82832</th>\n",
       "      <td>20191020</td>\n",
       "      <td>4</td>\n",
       "      <td>좋아요</td>\n",
       "    </tr>\n",
       "  </tbody>\n",
       "</table>\n",
       "<p>3535 rows × 3 columns</p>\n",
       "</div>"
      ],
      "text/plain": [
       "           DATE  STAR                                             REVIEW\n",
       "1      20201021     3  다른앱보다 괜찮은데 지금 문제가 심각한게 허위프로필로 사기치려는 계정이 심각하게 늘...\n",
       "2      20201020     3  무료로 사용할 수 있다는 점이 굉장히 좋구요. 최근 업데이트를 해서인지 높은 평가해...\n",
       "4      20201031     1  안녕하세요 몇몇 어플써본사람 입니다 확실히 타 어플들에 비해 결제요구 가 덜한느낌도...\n",
       "6      20201015     5  다른 소개팅 어플 다 써봤어요. 다 지우고 이거 하나 남았습니다. 연결이 자주 되진...\n",
       "7      20201016     5  글램은 제가 사용해본 어플중에 최고의 어플입니다. 수많은 다른어플들은 매칭도 서울 ...\n",
       "...         ...   ...                                                ...\n",
       "82813  20191010     5                                                긍정적\n",
       "82815  20191011     5                                                좋아요\n",
       "82819  20191014     4                                                아아아\n",
       "82821  20191013     5                                                좋아여\n",
       "82832  20191020     4                                                좋아요\n",
       "\n",
       "[3535 rows x 3 columns]"
      ]
     },
     "execution_count": 111,
     "metadata": {},
     "output_type": "execute_result"
    }
   ],
   "source": [
    "data_down_2"
   ]
  },
  {
   "cell_type": "code",
   "execution_count": 112,
   "metadata": {},
   "outputs": [
    {
     "name": "stdout",
     "output_type": "stream",
     "text": [
      "36286\n",
      "3063\n",
      "81544\n",
      "3535\n"
     ]
    }
   ],
   "source": [
    "print(len(data_up_1))\n",
    "print(len(data_up_2))\n",
    "print(len(data_down_1))\n",
    "print(len(data_down_2))"
   ]
  },
  {
   "cell_type": "code",
   "execution_count": 113,
   "metadata": {},
   "outputs": [],
   "source": [
    "data_up_1.to_excel('글램+위피 전.xlsx')\n",
    "data_up_2.to_excel('글램+위피 후.xlsx')\n",
    "data_down_1.to_excel('심쿵+당연시+아만다+정오 전.xlsx')\n",
    "data_down_2.to_excel('심쿵+당연시+아만다+정오 후.xlsx')"
   ]
  },
  {
   "cell_type": "markdown",
   "metadata": {},
   "source": [
    "# 여기부터 다시 돌리기"
   ]
  },
  {
   "cell_type": "code",
   "execution_count": 2,
   "metadata": {},
   "outputs": [],
   "source": [
    "import re\n",
    "from konlpy.tag import Hannanum\n",
    "from pprint import pprint\n",
    "import nltk\n",
    "import pandas as pd\n",
    "from sklearn.feature_extraction.text import TfidfVectorizer\n",
    "from collections import defaultdict"
   ]
  },
  {
   "cell_type": "code",
   "execution_count": 3,
   "metadata": {},
   "outputs": [],
   "source": [
    "doc = pd.read_excel(\"./data/글램+위피 전.xlsx\")"
   ]
  },
  {
   "cell_type": "code",
   "execution_count": 4,
   "metadata": {},
   "outputs": [],
   "source": [
    "doc=doc.reset_index(drop=True)"
   ]
  },
  {
   "cell_type": "code",
   "execution_count": 5,
   "metadata": {},
   "outputs": [],
   "source": [
    "doc=doc.dropna(axis=0) # 결측치있는 행 제거\n",
    "    \n",
    "data_date=doc['DATE'] # 리뷰 날짜\n",
    "data_content=doc['REVIEW'][0:2] # 리뷰 콘텐츠"
   ]
  },
  {
   "cell_type": "code",
   "execution_count": 7,
   "metadata": {},
   "outputs": [],
   "source": [
    "def review_preprocessing(data):\n",
    "    # Hannanum package\n",
    "    pos_tagger = Hannanum()\n",
    "\n",
    "    # 뉴스를 tokenizing한 후, 명사만 추출\n",
    "    pos_nouns = pos_tagger.nouns(data)\n",
    "    \n",
    "    return ' '.join(pos_nouns)"
   ]
  },
  {
   "cell_type": "code",
   "execution_count": 8,
   "metadata": {},
   "outputs": [],
   "source": [
    "content_noun=[]\n",
    "for i in data_content:\n",
    "    content_noun.append(review_preprocessing(i))"
   ]
  },
  {
   "cell_type": "code",
   "execution_count": 25,
   "metadata": {},
   "outputs": [],
   "source": [
    "from sklearn.feature_extraction.text import TfidfVectorizer\n",
    "from collections import defaultdict\n",
    "\n",
    "# ============================================\n",
    "# -- Get TFIDF\n",
    "# ============================================\n",
    "vectorizer = TfidfVectorizer()\n",
    "sp_matrix = vectorizer.fit_transform(content_noun)\n",
    "\n",
    "word2id = defaultdict(lambda : 0)\n",
    "for idx, feature in enumerate(vectorizer.get_feature_names()):\n",
    "    word2id[feature] = idx\n",
    "documents=[]\n",
    "sentences=[]\n",
    "values=[]\n",
    "for i, sent in enumerate(content_noun):\n",
    "    for token in sent.split():\n",
    "        documents.append(i)\n",
    "        sentences.append(token)\n",
    "        values.append(sp_matrix[i, word2id[token]])\n",
    "    \n",
    "#     print('====== document[%d] ======' % i)\n",
    "#     print( [ (token, sp_matrix[i, word2id[token]]) for token in sent.split() ] )"
   ]
  },
  {
   "cell_type": "code",
   "execution_count": 29,
   "metadata": {},
   "outputs": [
    {
     "data": {
      "text/html": [
       "<div>\n",
       "<style scoped>\n",
       "    .dataframe tbody tr th:only-of-type {\n",
       "        vertical-align: middle;\n",
       "    }\n",
       "\n",
       "    .dataframe tbody tr th {\n",
       "        vertical-align: top;\n",
       "    }\n",
       "\n",
       "    .dataframe thead th {\n",
       "        text-align: right;\n",
       "    }\n",
       "</style>\n",
       "<table border=\"1\" class=\"dataframe\">\n",
       "  <thead>\n",
       "    <tr style=\"text-align: right;\">\n",
       "      <th></th>\n",
       "      <th>documents</th>\n",
       "      <th>sentences</th>\n",
       "      <th>values</th>\n",
       "    </tr>\n",
       "  </thead>\n",
       "  <tbody>\n",
       "    <tr>\n",
       "      <th>0</th>\n",
       "      <td>0</td>\n",
       "      <td>다른앱</td>\n",
       "      <td>0.156102</td>\n",
       "    </tr>\n",
       "    <tr>\n",
       "      <th>1</th>\n",
       "      <td>0</td>\n",
       "      <td>앱</td>\n",
       "      <td>0.000000</td>\n",
       "    </tr>\n",
       "    <tr>\n",
       "      <th>2</th>\n",
       "      <td>0</td>\n",
       "      <td>일주일</td>\n",
       "      <td>0.156102</td>\n",
       "    </tr>\n",
       "    <tr>\n",
       "      <th>3</th>\n",
       "      <td>0</td>\n",
       "      <td>아쉬운점</td>\n",
       "      <td>0.156102</td>\n",
       "    </tr>\n",
       "    <tr>\n",
       "      <th>4</th>\n",
       "      <td>0</td>\n",
       "      <td>글남깁니</td>\n",
       "      <td>0.156102</td>\n",
       "    </tr>\n",
       "    <tr>\n",
       "      <th>...</th>\n",
       "      <td>...</td>\n",
       "      <td>...</td>\n",
       "      <td>...</td>\n",
       "    </tr>\n",
       "    <tr>\n",
       "      <th>93</th>\n",
       "      <td>1</td>\n",
       "      <td>초이스</td>\n",
       "      <td>0.147382</td>\n",
       "    </tr>\n",
       "    <tr>\n",
       "      <th>94</th>\n",
       "      <td>1</td>\n",
       "      <td>뭐</td>\n",
       "      <td>0.147382</td>\n",
       "    </tr>\n",
       "    <tr>\n",
       "      <th>95</th>\n",
       "      <td>1</td>\n",
       "      <td>메시</td>\n",
       "      <td>0.147382</td>\n",
       "    </tr>\n",
       "    <tr>\n",
       "      <th>96</th>\n",
       "      <td>1</td>\n",
       "      <td>전체</td>\n",
       "      <td>0.104863</td>\n",
       "    </tr>\n",
       "    <tr>\n",
       "      <th>97</th>\n",
       "      <td>1</td>\n",
       "      <td>리뷰</td>\n",
       "      <td>0.104863</td>\n",
       "    </tr>\n",
       "  </tbody>\n",
       "</table>\n",
       "<p>98 rows × 3 columns</p>\n",
       "</div>"
      ],
      "text/plain": [
       "    documents sentences    values\n",
       "0           0       다른앱  0.156102\n",
       "1           0         앱  0.000000\n",
       "2           0       일주일  0.156102\n",
       "3           0      아쉬운점  0.156102\n",
       "4           0      글남깁니  0.156102\n",
       "..        ...       ...       ...\n",
       "93          1       초이스  0.147382\n",
       "94          1         뭐  0.147382\n",
       "95          1        메시  0.147382\n",
       "96          1        전체  0.104863\n",
       "97          1        리뷰  0.104863\n",
       "\n",
       "[98 rows x 3 columns]"
      ]
     },
     "execution_count": 29,
     "metadata": {},
     "output_type": "execute_result"
    }
   ],
   "source": [
    "res_dict = []\n",
    "for i in range(len(values)):\n",
    "    res_dict.append({\n",
    "        'documents' : documents[i],\n",
    "        'sentences' : sentences[i],\n",
    "        'values' : values[i]\n",
    "    })\n",
    "    \n",
    "res_df = pd.DataFrame(res_dict)\n",
    "res_df"
   ]
  },
  {
   "cell_type": "code",
   "execution_count": null,
   "metadata": {},
   "outputs": [],
   "source": []
  },
  {
   "cell_type": "code",
   "execution_count": null,
   "metadata": {},
   "outputs": [],
   "source": []
  }
 ],
 "metadata": {
  "kernelspec": {
   "display_name": "Python 3",
   "language": "python",
   "name": "python3"
  }
 },
 "nbformat": 4,
 "nbformat_minor": 4
}
